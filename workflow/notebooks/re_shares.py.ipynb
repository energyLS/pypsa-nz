{
 "cells": [
  {
   "cell_type": "code",
   "execution_count": null,
   "metadata": {},
   "outputs": [],
   "source": [
    "import pandas as pd\n",
    "import matplotlib.pyplot as plt"
   ]
  },
  {
   "cell_type": "code",
   "execution_count": null,
   "metadata": {},
   "outputs": [],
   "source": [
    "# Parameters\n",
    "country = \"NZL\" #[\"NZL\", \"ninty\", \"all\", \"ninty2022\"]\n",
    "#country = snakemake.wildcards.country"
   ]
  },
  {
   "cell_type": "markdown",
   "metadata": {},
   "source": [
    "### Get shares"
   ]
  },
  {
   "cell_type": "code",
   "execution_count": null,
   "metadata": {},
   "outputs": [],
   "source": [
    "# reshare = pd.read_csv('../../data/owid/share-of-electricity-production-from-renewable-sources.csv')\n",
    "reshare = pd.read_csv(snakemake.input.reshares)"
   ]
  },
  {
   "cell_type": "code",
   "execution_count": null,
   "metadata": {},
   "outputs": [],
   "source": [
    "reshare = reshare.dropna(subset=['Code'])\n",
    "reshare = reshare.rename(columns={'Renewables - % electricity': 'reshare'})"
   ]
  },
  {
   "cell_type": "code",
   "execution_count": null,
   "metadata": {},
   "outputs": [],
   "source": [
    "if country == \"ninty\":\n",
    "    country_ninty = reshare.loc[reshare['reshare'] >= 90].Code.unique()\n",
    "    country_ninty = country_ninty\n",
    "    reshare = reshare[reshare.Code.isin(country_ninty)]\n",
    "\n",
    "elif country == \"ninty2022\":\n",
    "    country_ninty = reshare[(reshare.Year == 2022) & (reshare.reshare >= 90)].Code.unique()\n",
    "    country_ninty = country_ninty\n",
    "    reshare = reshare[reshare.Code.isin(country_ninty)]\n",
    "\n",
    "elif country == \"all\":\n",
    "    reshare = reshare\n",
    "else:\n",
    "    reshare = reshare[reshare.Code == country]"
   ]
  },
  {
   "cell_type": "markdown",
   "metadata": {},
   "source": [
    "### Plot"
   ]
  },
  {
   "cell_type": "code",
   "execution_count": null,
   "metadata": {},
   "outputs": [],
   "source": [
    "reshare = reshare.set_index('Year')"
   ]
  },
  {
   "cell_type": "code",
   "execution_count": null,
   "metadata": {},
   "outputs": [],
   "source": [
    "#reshare.plot(x='Year', y='reshare', kind='line')\n",
    "\n",
    "# Set up figure\n",
    "fig = plt.figure(facecolor='white', figsize=(10, 5))\n",
    "\n",
    "ax = fig.add_subplot(1,1,1)\n",
    "\n",
    "for code in reshare.Code.unique():\n",
    "    ax.plot(\"reshare\", data=reshare[reshare.Code == code] , color=\"black\")\n",
    "\n",
    "# Add a vertical line at 90% and label it \"90% threshold\"\n",
    "plt.axhline(y=90, color='r', linestyle='-')\n",
    "plt.text(2035, 91, '90% threshold', color='red')\n",
    "\n",
    "# Limit the plot\n",
    "ax.set_xlim(1990, 2050)\n",
    "ax.set_ylim(0,101)\n",
    "\n",
    "# Further elements\n",
    "ax.set_ylabel(\"Share of Renewable Electricity\")\n",
    "ax.set_xlabel(\"Year\")\n",
    "plt.grid(alpha=0.4)\n",
    "\n",
    "# Create graph and save it\n",
    "fig.savefig(snakemake.output.reshares, bbox_inches=\"tight\")\n",
    "\n",
    "plt.show()"
   ]
  }
 ],
 "metadata": {
  "kernelspec": {
   "display_name": "pypsa-earth",
   "language": "python",
   "name": "python3"
  },
  "language_info": {
   "codemirror_mode": {
    "name": "ipython",
    "version": 3
   },
   "file_extension": ".py",
   "mimetype": "text/x-python",
   "name": "python",
   "nbconvert_exporter": "python",
   "pygments_lexer": "ipython3",
   "version": "3.10.12"
  }
 },
 "nbformat": 4,
 "nbformat_minor": 5
}
