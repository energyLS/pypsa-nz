{
 "cells": [
  {
   "cell_type": "code",
   "execution_count": null,
   "metadata": {},
   "outputs": [],
   "source": [
    "import pandas as pd\n",
    "import numpy as np"
   ]
  },
  {
   "cell_type": "markdown",
   "metadata": {},
   "source": [
    "### Define variables"
   ]
  },
  {
   "cell_type": "code",
   "execution_count": null,
   "metadata": {},
   "outputs": [],
   "source": [
    "re_share = 97# in percent\n",
    "rule = 90 # in percent\n",
    "gen_total = 10 # in TWh\n",
    "\n",
    "re_exp = 4 # TWh/year\n",
    "year_target = 2030\n",
    "year_current = 2024\n",
    "\n",
    "demand_dom_incr = np.array([0, 5, 10, 20]) # in TWh"
   ]
  },
  {
   "cell_type": "markdown",
   "metadata": {},
   "source": [
    "### Formula"
   ]
  },
  {
   "cell_type": "code",
   "execution_count": null,
   "metadata": {},
   "outputs": [],
   "source": [
    "# export\n",
    "export = ((re_share-rule)/100 * gen_total) + (re_exp * (year_target-year_current)) - demand_dom_incr\n",
    "export "
   ]
  },
  {
   "cell_type": "markdown",
   "metadata": {},
   "source": [
    "### Plot"
   ]
  },
  {
   "cell_type": "code",
   "execution_count": null,
   "metadata": {},
   "outputs": [],
   "source": [
    "# Plot demand_dom_incr on x and export on y axis\n",
    "import matplotlib.pyplot as plt\n",
    "\n",
    "plt.plot(demand_dom_incr, export)\n",
    "plt.xlabel('Demand increase in TWh')\n",
    "plt.ylabel('Export in TWh')\n",
    "plt.ylim(0, 20)\n",
    "plt.title('Export vs. Demand increase')\n",
    "plt.show()\n"
   ]
  },
  {
   "cell_type": "code",
   "execution_count": null,
   "metadata": {},
   "outputs": [],
   "source": [
    "# Plot demand_dom_incr on x and export on y axis\n",
    "import matplotlib.pyplot as plt\n",
    "\n",
    "plt.plot(demand_dom_incr, export)\n",
    "plt.xlabel('Demand increase in TWh')\n",
    "plt.ylabel('Export in TWh')\n",
    "plt.ylim(0, 20)\n",
    "plt.title('Export vs. Demand increase')\n",
    "plt.show()\n"
   ]
  }
 ],
 "metadata": {
  "kernelspec": {
   "display_name": "pypsa-earth",
   "language": "python",
   "name": "python3"
  },
  "language_info": {
   "codemirror_mode": {
    "name": "ipython",
    "version": 3
   },
   "file_extension": ".py",
   "mimetype": "text/x-python",
   "name": "python",
   "nbconvert_exporter": "python",
   "pygments_lexer": "ipython3",
   "version": "3.10.12"
  }
 },
 "nbformat": 4,
 "nbformat_minor": 2
}
