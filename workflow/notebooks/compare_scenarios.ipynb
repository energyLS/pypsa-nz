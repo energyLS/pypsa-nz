{
 "cells": [
  {
   "cell_type": "code",
   "execution_count": 27,
   "metadata": {},
   "outputs": [],
   "source": [
    "import pandas as pd\n",
    "import numpy as np\n",
    "import os \n",
    "import matplotlib.pyplot as plt\n",
    "import pypsa\n",
    "import yaml"
   ]
  },
  {
   "cell_type": "markdown",
   "metadata": {},
   "source": [
    "### Scenario selection"
   ]
  },
  {
   "cell_type": "code",
   "execution_count": 28,
   "metadata": {},
   "outputs": [],
   "source": [
    "h2export = 200\n",
    "EXPORT = h2export\n",
    "CO2L = \"\"\n",
    "CLUSTERS = 10\n",
    "H = 3\n",
    "LL = \"3.0\"\n",
    "DISCOUNT_RATE = 0.071"
   ]
  },
  {
   "cell_type": "markdown",
   "metadata": {},
   "source": [
    "### Settings"
   ]
  },
  {
   "cell_type": "code",
   "execution_count": 29,
   "metadata": {},
   "outputs": [],
   "source": [
    "\n",
    "\n",
    "#RUN = \"decr_13_3h_ws\"\n",
    "CATEGORY = \"postnetworks\"\n",
    "#SCENARIO = f\"elec_s_{CLUSTERS}_ec_lc{LL}_{opts}_{H}H_2030_{DISCOUNT_RATE}_DF_{EXPORT}export\"\n",
    "\n",
    "#OVERRIDES = PATH + \"pypsa-eur-sec/data/override_component_attrs\"\n",
    "\n",
    "PREFIX = \"/mnt/c/Users/scl38887/Documents/git/pypsa-nz/\"\n",
    "#INPUT = PREFIX + f\"workflow/subworkflows/pypsa-earth-sec/results/{RUN}/{CATEGORY}/{SCENARIO}.nc\"\n",
    "\n",
    "OUTPUT = PREFIX + \"results/figures/comp/\""
   ]
  },
  {
   "cell_type": "code",
   "execution_count": 30,
   "metadata": {},
   "outputs": [],
   "source": [
    "tech_colors = PREFIX + \"config/tech_colors.yaml\""
   ]
  },
  {
   "cell_type": "code",
   "execution_count": 31,
   "metadata": {},
   "outputs": [],
   "source": [
    "threshold_dispatch = 1e6 # 4 TWh\n",
    "h2export = 200\n",
    "opts = \"Co2L\"\n",
    "SCENARIO = f\"elec_s_{CLUSTERS}_ec_lc{LL}_{opts}_{H}H_2030_{DISCOUNT_RATE}_AB_{h2export}export\"\n"
   ]
  },
  {
   "cell_type": "code",
   "execution_count": 32,
   "metadata": {},
   "outputs": [],
   "source": [
    "RUNS = {\"0\": \"nz_nosmr\",\n",
    "        \"20\": \"nz_nosmr\",\n",
    "        \"200\": \"nz_nosmr\",\n",
    "        \"400\": \"nz_nosmr\",\n",
    "       }\n",
    "\n",
    "scenarios = [\"0\",\"20\", \"200\", \"400\"]"
   ]
  },
  {
   "cell_type": "markdown",
   "metadata": {},
   "source": [
    "### Data preparation"
   ]
  },
  {
   "cell_type": "code",
   "execution_count": 33,
   "metadata": {},
   "outputs": [],
   "source": [
    "def load_config(config):\n",
    "    with open(config, 'r') as stream:\n",
    "        try:\n",
    "            config = yaml.safe_load(stream)\n",
    "        except yaml.YAMLError as exc:\n",
    "            print(exc)\n",
    "    return config"
   ]
  },
  {
   "cell_type": "markdown",
   "metadata": {},
   "source": [
    "### Dispatch data preparation"
   ]
  },
  {
   "cell_type": "code",
   "execution_count": 34,
   "metadata": {},
   "outputs": [],
   "source": [
    "def get_dispatch(threshold_dispatch, ghrules, h2export, opts, show_demand=True):\n",
    "    \"\"\"Get dispatch\n",
    "    \"\"\"\n",
    "\n",
    "    dispatch_all = pd.DataFrame()\n",
    "\n",
    "    for sc in scenarios:\n",
    "\n",
    "        SCENARIO = f\"elec_s_{CLUSTERS}_ec_lc{LL}_{opts}_{H}H_2030_{DISCOUNT_RATE}_AB_{sc}export\"\n",
    "        INPUT = PREFIX + f\"results/{RUNS[sc]}/{CATEGORY}/{SCENARIO}.nc\"\n",
    "\n",
    "        n = pypsa.Network(INPUT)\n",
    "\n",
    "        dispatch = n.statistics.dispatch(bus_carrier=\"AC\")[n.statistics.dispatch(bus_carrier=\"AC\") > 0]\n",
    "        threshold_dispatch_sum = dispatch[dispatch < threshold_dispatch].sum()\n",
    "        dispatch = dispatch[dispatch > threshold_dispatch]\n",
    "        dispatch = pd.DataFrame(dispatch.droplevel(0)).T\n",
    "        dispatch[f\"(Dispatch < {threshold_dispatch/1e6} TWh thres.)\"] = threshold_dispatch_sum\n",
    "\n",
    "        dispatch.index = [sc]\n",
    "\n",
    "        dispatch_all = pd.concat([dispatch_all, dispatch], axis=0) #, ignore_index=True)\n",
    "\n",
    "    if show_demand == \"bar\":\n",
    "        dispatch_demand = n.statistics.dispatch(bus_carrier=\"AC\")[n.statistics.dispatch(bus_carrier=\"AC\") < 0]\n",
    "        ely_electricity = dispatch_demand.droplevel(0).loc[\"H2 Electrolysis\"].sum() * (-1)\n",
    "        total_demand = dispatch_demand.sum() * (-1)\n",
    "        other_demand = total_demand - ely_electricity\n",
    "        dispatch_all.loc[\"Demand\", \"H2 Electrolysis electricity\"] = ely_electricity\n",
    "        dispatch_all.loc[\"Demand\", \"Domestic electricity\"] = other_demand\n",
    "        \n",
    "    elif show_demand == \"line\":\n",
    "        dispatch_demand = n.statistics.dispatch(bus_carrier=\"AC\")[n.statistics.dispatch(bus_carrier=\"AC\") < 0]\n",
    "        ely_electricity = dispatch_demand.droplevel(0).loc[\"H2 Electrolysis\"].sum() * (-1)\n",
    "        total_demand = dispatch_demand.sum() * (-1)\n",
    "        other_demand = total_demand - ely_electricity\n",
    "        dispatch_all.loc[:, \"H2 Electrolysis electricity\"] = ely_electricity\n",
    "        dispatch_all.loc[:, \"Domestic electricity\"] = other_demand\n",
    "        \n",
    "    \n",
    "    return dispatch_all"
   ]
  },
  {
   "cell_type": "code",
   "execution_count": 35,
   "metadata": {},
   "outputs": [
    {
     "name": "stderr",
     "output_type": "stream",
     "text": [
      "WARNING:pypsa.io:Importing network from PyPSA version v0.24.0 while current version is v0.26.2. Read the release notes at https://pypsa.readthedocs.io/en/latest/release_notes.html to prepare your network for import.\n",
      "INFO:pypsa.io:Imported network elec_s_10_ec_lc3.0_Co2L_3H_2030_0.071_AB_0export.nc has buses, carriers, generators, global_constraints, lines, links, loads, storage_units, stores\n",
      "WARNING:pypsa.io:Importing network from PyPSA version v0.24.0 while current version is v0.26.2. Read the release notes at https://pypsa.readthedocs.io/en/latest/release_notes.html to prepare your network for import.\n",
      "INFO:pypsa.io:Imported network elec_s_10_ec_lc3.0_Co2L_3H_2030_0.071_AB_20export.nc has buses, carriers, generators, global_constraints, lines, links, loads, storage_units, stores\n",
      "WARNING:pypsa.io:Importing network from PyPSA version v0.24.0 while current version is v0.26.2. Read the release notes at https://pypsa.readthedocs.io/en/latest/release_notes.html to prepare your network for import.\n",
      "INFO:pypsa.io:Imported network elec_s_10_ec_lc3.0_Co2L_3H_2030_0.071_AB_200export.nc has buses, carriers, generators, global_constraints, lines, links, loads, storage_units, stores\n",
      "WARNING:pypsa.io:Importing network from PyPSA version v0.24.0 while current version is v0.26.2. Read the release notes at https://pypsa.readthedocs.io/en/latest/release_notes.html to prepare your network for import.\n",
      "INFO:pypsa.io:Imported network elec_s_10_ec_lc3.0_Co2L_3H_2030_0.071_AB_400export.nc has buses, carriers, generators, global_constraints, lines, links, loads, storage_units, stores\n"
     ]
    }
   ],
   "source": [
    "dispatch = get_dispatch(threshold_dispatch, scenarios, h2export, opts, show_demand=False)"
   ]
  },
  {
   "cell_type": "code",
   "execution_count": 36,
   "metadata": {},
   "outputs": [
    {
     "data": {
      "text/html": [
       "<div>\n",
       "<style scoped>\n",
       "    .dataframe tbody tr th:only-of-type {\n",
       "        vertical-align: middle;\n",
       "    }\n",
       "\n",
       "    .dataframe tbody tr th {\n",
       "        vertical-align: top;\n",
       "    }\n",
       "\n",
       "    .dataframe thead th {\n",
       "        text-align: right;\n",
       "    }\n",
       "</style>\n",
       "<table border=\"1\" class=\"dataframe\">\n",
       "  <thead>\n",
       "    <tr style=\"text-align: right;\">\n",
       "      <th>carrier</th>\n",
       "      <th>Reservoir &amp; Dam</th>\n",
       "      <th>Coal</th>\n",
       "      <th>Combined-Cycle Gas</th>\n",
       "      <th>Geothermal</th>\n",
       "      <th>Onshore Wind</th>\n",
       "      <th>Run of River</th>\n",
       "      <th>(Dispatch &lt; 1.0 TWh thres.)</th>\n",
       "      <th>Solar</th>\n",
       "      <th>Offshore Wind (AC)</th>\n",
       "      <th>Offshore Wind (DC)</th>\n",
       "      <th>Open-Cycle Gas</th>\n",
       "      <th>urban central solid biomass CHP CC</th>\n",
       "    </tr>\n",
       "  </thead>\n",
       "  <tbody>\n",
       "    <tr>\n",
       "      <th>0</th>\n",
       "      <td>4.189823e+07</td>\n",
       "      <td>3.430158e+06</td>\n",
       "      <td>1.156002e+06</td>\n",
       "      <td>9.811085e+06</td>\n",
       "      <td>2.536277e+06</td>\n",
       "      <td>3.488059e+06</td>\n",
       "      <td>305615.961778</td>\n",
       "      <td>NaN</td>\n",
       "      <td>NaN</td>\n",
       "      <td>NaN</td>\n",
       "      <td>NaN</td>\n",
       "      <td>NaN</td>\n",
       "    </tr>\n",
       "    <tr>\n",
       "      <th>20</th>\n",
       "      <td>4.189764e+07</td>\n",
       "      <td>3.862922e+06</td>\n",
       "      <td>NaN</td>\n",
       "      <td>9.810860e+06</td>\n",
       "      <td>2.875264e+07</td>\n",
       "      <td>3.487532e+06</td>\n",
       "      <td>193448.792906</td>\n",
       "      <td>4.027503e+06</td>\n",
       "      <td>NaN</td>\n",
       "      <td>NaN</td>\n",
       "      <td>NaN</td>\n",
       "      <td>NaN</td>\n",
       "    </tr>\n",
       "    <tr>\n",
       "      <th>200</th>\n",
       "      <td>4.189786e+07</td>\n",
       "      <td>3.884871e+06</td>\n",
       "      <td>2.955226e+06</td>\n",
       "      <td>9.247022e+06</td>\n",
       "      <td>2.152334e+08</td>\n",
       "      <td>3.487633e+06</td>\n",
       "      <td>345156.997910</td>\n",
       "      <td>7.990710e+07</td>\n",
       "      <td>NaN</td>\n",
       "      <td>NaN</td>\n",
       "      <td>NaN</td>\n",
       "      <td>NaN</td>\n",
       "    </tr>\n",
       "    <tr>\n",
       "      <th>400</th>\n",
       "      <td>4.188161e+07</td>\n",
       "      <td>2.738473e+06</td>\n",
       "      <td>1.131312e+07</td>\n",
       "      <td>7.455808e+06</td>\n",
       "      <td>3.019581e+08</td>\n",
       "      <td>3.477833e+06</td>\n",
       "      <td>626943.154721</td>\n",
       "      <td>2.250937e+08</td>\n",
       "      <td>4.216533e+06</td>\n",
       "      <td>3.054221e+07</td>\n",
       "      <td>2.324942e+07</td>\n",
       "      <td>4.359012e+06</td>\n",
       "    </tr>\n",
       "  </tbody>\n",
       "</table>\n",
       "</div>"
      ],
      "text/plain": [
       "carrier  Reservoir & Dam          Coal  Combined-Cycle Gas    Geothermal  \\\n",
       "0           4.189823e+07  3.430158e+06        1.156002e+06  9.811085e+06   \n",
       "20          4.189764e+07  3.862922e+06                 NaN  9.810860e+06   \n",
       "200         4.189786e+07  3.884871e+06        2.955226e+06  9.247022e+06   \n",
       "400         4.188161e+07  2.738473e+06        1.131312e+07  7.455808e+06   \n",
       "\n",
       "carrier  Onshore Wind  Run of River  (Dispatch < 1.0 TWh thres.)  \\\n",
       "0        2.536277e+06  3.488059e+06                305615.961778   \n",
       "20       2.875264e+07  3.487532e+06                193448.792906   \n",
       "200      2.152334e+08  3.487633e+06                345156.997910   \n",
       "400      3.019581e+08  3.477833e+06                626943.154721   \n",
       "\n",
       "carrier         Solar  Offshore Wind (AC)  Offshore Wind (DC)  Open-Cycle Gas  \\\n",
       "0                 NaN                 NaN                 NaN             NaN   \n",
       "20       4.027503e+06                 NaN                 NaN             NaN   \n",
       "200      7.990710e+07                 NaN                 NaN             NaN   \n",
       "400      2.250937e+08        4.216533e+06        3.054221e+07    2.324942e+07   \n",
       "\n",
       "carrier  urban central solid biomass CHP CC  \n",
       "0                                       NaN  \n",
       "20                                      NaN  \n",
       "200                                     NaN  \n",
       "400                            4.359012e+06  "
      ]
     },
     "execution_count": 36,
     "metadata": {},
     "output_type": "execute_result"
    }
   ],
   "source": [
    "dispatch"
   ]
  },
  {
   "cell_type": "markdown",
   "metadata": {},
   "source": [
    "### Plot data"
   ]
  },
  {
   "cell_type": "code",
   "execution_count": 39,
   "metadata": {},
   "outputs": [
    {
     "data": {
      "image/png": "[encoded data removed]",
      "text/plain": [
       "<Figure size 600x400 with 1 Axes>"
      ]
     },
     "metadata": {},
     "output_type": "display_data"
    }
   ],
   "source": [
    "fig, ax = plt.subplots(figsize=(6, 4))\n",
    "\n",
    "# Get colors from yaml defined in tech_colors\n",
    "colors = load_config(tech_colors)[\"tech_colors\"]\n",
    "\n",
    "# Sort columns by highest value in first row\n",
    "dispatch_sorted = dispatch[dispatch.iloc[-1].sort_values(ascending=False).index]\n",
    "dispatch_twh = dispatch_sorted / 1e6 # convert to TWh\n",
    "\n",
    "dispatch_twh.plot.bar(ax=ax, stacked=True, alpha=0.8, color=colors)\n",
    "\n",
    "plt.xlabel(\"Export in TWh\")\n",
    "plt.ylabel(\"Dispatch in TWh\")\n",
    "handles, labels = ax.get_legend_handles_labels()\n",
    "ax.legend(reversed(handles), reversed(labels), loc='upper left', bbox_to_anchor=(1, 1))\n",
    "plt.xticks(rotation=0)\n",
    "#plt.ylim(0, 250)\n",
    "\n",
    "plt.grid(axis='y', alpha=0.5) \n",
    "\n",
    "fig.savefig(OUTPUT+f\"dispatch.pdf\", bbox_inches=\"tight\")\n",
    "fig.savefig(OUTPUT+f\"dispatch.png\", bbox_inches=\"tight\")"
   ]
  }
 ],
 "metadata": {
  "kernelspec": {
   "display_name": "pypsa-earth",
   "language": "python",
   "name": "python3"
  },
  "language_info": {
   "codemirror_mode": {
    "name": "ipython",
    "version": 3
   },
   "file_extension": ".py",
   "mimetype": "text/x-python",
   "name": "python",
   "nbconvert_exporter": "python",
   "pygments_lexer": "ipython3",
   "version": "3.10.12"
  }
 },
 "nbformat": 4,
 "nbformat_minor": 2
}
