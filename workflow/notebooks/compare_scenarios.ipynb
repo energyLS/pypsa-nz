{
 "cells": [
  {
   "cell_type": "code",
   "execution_count": null,
   "metadata": {},
   "outputs": [],
   "source": [
    "import pandas as pd\n",
    "import numpy as np\n",
    "import os \n",
    "import matplotlib.pyplot as plt\n",
    "import pypsa\n",
    "import yaml"
   ]
  },
  {
   "cell_type": "markdown",
   "metadata": {},
   "source": [
    "### Scenario selection"
   ]
  },
  {
   "cell_type": "code",
   "execution_count": null,
   "metadata": {},
   "outputs": [],
   "source": [
    "h2export = 200\n",
    "EXPORT = h2export\n",
    "CO2L = \"\"\n",
    "CLUSTERS = 10\n",
    "H = 3\n",
    "LL = \"1.0\"\n",
    "DISCOUNT_RATE = 0.071"
   ]
  },
  {
   "cell_type": "markdown",
   "metadata": {},
   "source": [
    "### Settings"
   ]
  },
  {
   "cell_type": "code",
   "execution_count": null,
   "metadata": {},
   "outputs": [],
   "source": [
    "\n",
    "\n",
    "#RUN = \"decr_13_3h_ws\"\n",
    "CATEGORY = \"postnetworks\"\n",
    "#SCENARIO = f\"elec_s_{CLUSTERS}_ec_lc{LL}_{opts}_{H}H_2030_{DISCOUNT_RATE}_DF_{EXPORT}export\"\n",
    "\n",
    "#OVERRIDES = PATH + \"pypsa-eur-sec/data/override_component_attrs\"\n",
    "\n",
    "PREFIX = \"/mnt/c/Users/scl38887/Documents/git/pypsa-nz/\"\n",
    "INPUT = PREFIX + f\"workflow/subworkflows/pypsa-earth-sec/results/{RUN}/{CATEGORY}/{SCENARIO}.nc\""
   ]
  },
  {
   "cell_type": "code",
   "execution_count": null,
   "metadata": {},
   "outputs": [],
   "source": [
    "config_aldehyde = PREFIX + \"config/config.yaml\""
   ]
  },
  {
   "cell_type": "code",
   "execution_count": null,
   "metadata": {},
   "outputs": [],
   "source": [
    "threshold_dispatch = 1e6 # 4 TWh\n",
    "h2export = 200\n",
    "opts = \"Co2L\"\n",
    "SCENARIO = f\"elec_s_{CLUSTERS}_ec_lc{LL}_{opts}_{H}H_2030_{DISCOUNT_RATE}_AB_{h2export}export\"\n"
   ]
  },
  {
   "cell_type": "code",
   "execution_count": null,
   "metadata": {},
   "outputs": [],
   "source": [
    "RUNS = {\"0\": \"nz_erafixtwo\",\n",
    "        \"20\": \"nz_erafixtwo\",\n",
    "        \"200\": \"nz_erafixtwo\",\n",
    "       }\n",
    "\n",
    "scenarios = [\"0\",\"20\", \"200\"]\n",
    "\n",
    "# PREFIX = \"/mnt/c/Users/scl38887/Documents/git/aldehyde/\"\n",
    "# OUTPUT = PREFIX + \"results/gh/\"\n",
    "# config_aldehyde = PREFIX + \"config/config.yaml\""
   ]
  },
  {
   "cell_type": "markdown",
   "metadata": {},
   "source": [
    "### Data preparation"
   ]
  },
  {
   "cell_type": "code",
   "execution_count": null,
   "metadata": {},
   "outputs": [],
   "source": [
    "def load_config(config_aldehyde):\n",
    "    with open(config_aldehyde, 'r') as stream:\n",
    "        try:\n",
    "            config = yaml.safe_load(stream)\n",
    "        except yaml.YAMLError as exc:\n",
    "            print(exc)\n",
    "    return config"
   ]
  },
  {
   "cell_type": "code",
   "execution_count": null,
   "metadata": {},
   "outputs": [],
   "source": [
    "config = load_config(config_aldehyde)"
   ]
  },
  {
   "cell_type": "markdown",
   "metadata": {},
   "source": [
    "### Plot dispatch"
   ]
  },
  {
   "cell_type": "code",
   "execution_count": null,
   "metadata": {},
   "outputs": [],
   "source": [
    "def get_dispatch(threshold_dispatch, ghrules, h2export, opts, show_demand=True):\n",
    "    \"\"\"Get dispatch\n",
    "    \"\"\"\n",
    "\n",
    "    dispatch_all = pd.DataFrame()\n",
    "\n",
    "    for sc in scenarios:\n",
    "\n",
    "        SCENARIO = f\"elec_s_{CLUSTERS}_ec_lc{LL}_{opts}_{H}H_2030_{DISCOUNT_RATE}_AB_{sc}export\"\n",
    "        INPUT = PREFIX + f\"results/{RUNS[sc]}/{CATEGORY}/{SCENARIO}.nc\"\n",
    "\n",
    "        n = pypsa.Network(INPUT)\n",
    "\n",
    "        dispatch = n.statistics.dispatch(bus_carrier=\"AC\")[n.statistics.dispatch(bus_carrier=\"AC\") > 0]\n",
    "        threshold_dispatch_sum = dispatch[dispatch < threshold_dispatch].sum()\n",
    "        dispatch = dispatch[dispatch > threshold_dispatch]\n",
    "        dispatch = pd.DataFrame(dispatch.droplevel(0)).T\n",
    "        dispatch[f\"(Dispatch < {threshold_dispatch/1e6} TWh thres.)\"] = threshold_dispatch_sum\n",
    "\n",
    "        dispatch.index = [sc]\n",
    "\n",
    "        dispatch_all = pd.concat([dispatch_all, dispatch], axis=0) #, ignore_index=True)\n",
    "\n",
    "    if show_demand == \"bar\":\n",
    "        dispatch_demand = n.statistics.dispatch(bus_carrier=\"AC\")[n.statistics.dispatch(bus_carrier=\"AC\") < 0]\n",
    "        ely_electricity = dispatch_demand.droplevel(0).loc[\"H2 Electrolysis\"].sum() * (-1)\n",
    "        total_demand = dispatch_demand.sum() * (-1)\n",
    "        other_demand = total_demand - ely_electricity\n",
    "        dispatch_all.loc[\"Demand\", \"H2 Electrolysis electricity\"] = ely_electricity\n",
    "        dispatch_all.loc[\"Demand\", \"Domestic electricity\"] = other_demand\n",
    "        \n",
    "    elif show_demand == \"line\":\n",
    "        dispatch_demand = n.statistics.dispatch(bus_carrier=\"AC\")[n.statistics.dispatch(bus_carrier=\"AC\") < 0]\n",
    "        ely_electricity = dispatch_demand.droplevel(0).loc[\"H2 Electrolysis\"].sum() * (-1)\n",
    "        total_demand = dispatch_demand.sum() * (-1)\n",
    "        other_demand = total_demand - ely_electricity\n",
    "        dispatch_all.loc[:, \"H2 Electrolysis electricity\"] = ely_electricity\n",
    "        dispatch_all.loc[:, \"Domestic electricity\"] = other_demand\n",
    "        \n",
    "    \n",
    "    return dispatch_all"
   ]
  },
  {
   "cell_type": "code",
   "execution_count": null,
   "metadata": {},
   "outputs": [],
   "source": [
    "dispatch = get_dispatch(threshold_dispatch, scenarios, h2export, opts, show_demand=\"bar\")"
   ]
  },
  {
   "cell_type": "code",
   "execution_count": null,
   "metadata": {},
   "outputs": [],
   "source": [
    "dispatch"
   ]
  },
  {
   "cell_type": "code",
   "execution_count": null,
   "metadata": {},
   "outputs": [],
   "source": [
    "#df = prepare_data(ghrules, h2export, opts)\n",
    "\n",
    "fig, ax = plt.subplots(figsize=(6, 4))\n",
    "\n",
    "colors = config[\"plot\"][\"tech_colors\"]\n",
    "# Sort columns by highest value in first row\n",
    "dispatch_sorted = dispatch[dispatch.iloc[3].sort_values(ascending=False).index]\n",
    "dispatch_twh = dispatch_sorted / 1e6 # in TWh\n",
    "\n",
    "# This line in case of electricty line not bar\n",
    "# dispatch_twh = dispatch_twh.iloc[:, ~dispatch_twh.columns.isin([\"H2 Electrolysis electricity\", \"Domestic electricity\"])]\n",
    "# dispatch[[\"H2 Electrolysis electricity\", \"Domestic electricity\"]].div(1e6).plot.line(ax=ax, alpha=1, color=colors)\n",
    "\n",
    "dispatch_twh.plot.bar(ax=ax, stacked=True, alpha=0.8, color=colors)\n",
    "\n",
    "#plt.xlabel(\"H2 rule\")\n",
    "plt.ylabel(\"Dispatch/Demand in TWh\")\n",
    "plt.title(f\"{h2export} TWh export, {opts} CO2\")\n",
    "handles, labels = ax.get_legend_handles_labels()\n",
    "ax.legend(reversed(handles), reversed(labels), loc='upper left', bbox_to_anchor=(1, 1))\n",
    "plt.xticks(rotation=0)\n",
    "plt.ylim(0, 250)\n",
    "\n",
    "plt.grid(axis='y', alpha=0.5) \n",
    "\n",
    "fig.savefig(OUTPUT+f\"dispatch_{h2export}_{opts}.pdf\", bbox_inches=\"tight\")"
   ]
  },
  {
   "cell_type": "code",
   "execution_count": null,
   "metadata": {},
   "outputs": [],
   "source": []
  }
 ],
 "metadata": {
  "kernelspec": {
   "display_name": "pypsa-earth",
   "language": "python",
   "name": "python3"
  },
  "language_info": {
   "codemirror_mode": {
    "name": "ipython",
    "version": 3
   },
   "file_extension": ".py",
   "mimetype": "text/x-python",
   "name": "python",
   "nbconvert_exporter": "python",
   "pygments_lexer": "ipython3",
   "version": "3.10.12"
  }
 },
 "nbformat": 4,
 "nbformat_minor": 2
}
