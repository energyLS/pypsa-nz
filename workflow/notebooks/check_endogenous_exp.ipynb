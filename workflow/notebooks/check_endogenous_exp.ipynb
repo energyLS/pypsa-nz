{
 "cells": [
  {
   "cell_type": "code",
   "execution_count": 9,
   "metadata": {},
   "outputs": [],
   "source": [
    "import pandas as pd\n",
    "import pypsa"
   ]
  },
  {
   "cell_type": "code",
   "execution_count": 14,
   "metadata": {},
   "outputs": [],
   "source": [
    "PREFIX = \"/mnt/c/Users/scl38887/Documents/git/pypsa-nz/\"\n",
    "\n",
    "# With no RE expansion limit\n",
    "# path =  PREFIX + f\"results/nz_endo/postnetworks/elec_s_10_ec_lc3.0_CO2L_3H_2030_0.071_AB_0export.nc\"\n",
    "\n",
    "# With RE expansion limit (all RE 0)\n",
    "path =  PREFIX + f\"results/nz_endo_0lim/postnetworks/elec_s_10_ec_lc3.0_CO2L_3H_2030_0.071_AB_0export.nc\""
   ]
  },
  {
   "cell_type": "code",
   "execution_count": 15,
   "metadata": {},
   "outputs": [
    {
     "name": "stderr",
     "output_type": "stream",
     "text": [
      "WARNING:pypsa.io:Importing network from PyPSA version v0.24.0 while current version is v0.26.2. Read the release notes at https://pypsa.readthedocs.io/en/latest/release_notes.html to prepare your network for import.\n",
      "WARNING:pypsa.io:The following Link have buses which are not defined:\n",
      "Index(['H2 pipeline NZ.15_1 -> NZ.17_1', 'H2 pipeline NZ.17_1 -> NZ.1_1',\n",
      "       'H2 pipeline NZ.1_1 -> NZ.11_1'],\n",
      "      dtype='object', name='name')\n",
      "WARNING:pypsa.io:The following Link have buses which are not defined:\n",
      "Index(['H2 pipeline NZ.15_1 -> NZ.17_1', 'H2 pipeline NZ.17_1 -> NZ.1_1',\n",
      "       'H2 pipeline NZ.1_1 -> NZ.11_1'],\n",
      "      dtype='object', name='name')\n",
      "INFO:pypsa.io:Imported network elec_s_10_ec_lc3.0_CO2L_3H_2030_0.071_AB_0export.nc has buses, carriers, generators, global_constraints, lines, links, loads, storage_units, stores\n"
     ]
    }
   ],
   "source": [
    "n = pypsa.Network(path)"
   ]
  },
  {
   "cell_type": "markdown",
   "metadata": {},
   "source": [
    "### Check export behavior"
   ]
  },
  {
   "cell_type": "code",
   "execution_count": 4,
   "metadata": {},
   "outputs": [],
   "source": [
    "# H2 export load: total quantity and timeseries"
   ]
  },
  {
   "cell_type": "code",
   "execution_count": 5,
   "metadata": {},
   "outputs": [
    {
     "data": {
      "text/plain": [
       "component  carrier                             \n",
       "Load       AC                                     -2.264512e+07\n",
       "           agriculture electricity                -3.124443e+06\n",
       "           agriculture oil                        -3.184172e+06\n",
       "           gas for industry                       -2.369851e+07\n",
       "           industry electricity                   -1.881263e+07\n",
       "           kerosene for aviation                  -2.464275e+07\n",
       "           land transport oil                     -7.260053e+07\n",
       "           low-temperature heat for industry      -1.887204e+06\n",
       "           naphtha for industry                   -7.050273e+06\n",
       "           residential biomass                    -2.349411e+06\n",
       "           residential gas                        -1.900759e+06\n",
       "           services electricity                   -1.431506e+07\n",
       "           services gas                           -2.209115e+06\n",
       "           services oil                           -1.301348e+06\n",
       "           shipping oil                           -4.989011e+06\n",
       "           solid biomass for industry             -7.301924e+06\n",
       "Generator  H2                                     -8.779649e+08\n",
       "Store      co2 stored                             -2.000000e+08\n",
       "Link       DAC                                    -3.615739e+08\n",
       "           H2 Electrolysis                        -4.368149e+08\n",
       "           Sabatier                               -1.785991e+07\n",
       "           battery charger                        -2.332379e+06\n",
       "           battery discharger                     -2.285256e+06\n",
       "           urban central water tanks charger      -1.200476e+07\n",
       "           urban central water tanks discharger   -1.004322e+07\n",
       "dtype: float64"
      ]
     },
     "execution_count": 5,
     "metadata": {},
     "output_type": "execute_result"
    }
   ],
   "source": [
    "dispatch = n.statistics.dispatch()\n",
    "threshold = 1e6\n",
    "dispatch[dispatch<-threshold]"
   ]
  },
  {
   "cell_type": "code",
   "execution_count": null,
   "metadata": {},
   "outputs": [
    {
     "data": {
      "text/plain": [
       "component  carrier                             \n",
       "Load       AC                                     -2.264512e+07\n",
       "           agriculture electricity                -3.124443e+06\n",
       "           agriculture oil                        -3.184172e+06\n",
       "           gas for industry                       -2.369851e+07\n",
       "           industry electricity                   -1.881263e+07\n",
       "           kerosene for aviation                  -2.464275e+07\n",
       "           land transport oil                     -7.260053e+07\n",
       "           low-temperature heat for industry      -1.887204e+06\n",
       "           naphtha for industry                   -7.050273e+06\n",
       "           residential biomass                    -2.349411e+06\n",
       "           residential gas                        -1.900759e+06\n",
       "           services electricity                   -1.431506e+07\n",
       "           services gas                           -2.209115e+06\n",
       "           services oil                           -1.301348e+06\n",
       "           shipping oil                           -4.989011e+06\n",
       "           solid biomass for industry             -7.301924e+06\n",
       "Link       DAC                                    -3.615739e+08\n",
       "           H2 Electrolysis                        -4.368149e+08\n",
       "           Sabatier                               -1.785991e+07\n",
       "           battery charger                        -2.332379e+06\n",
       "           battery discharger                     -2.285256e+06\n",
       "           urban central water tanks charger      -1.200476e+07\n",
       "           urban central water tanks discharger   -1.004322e+07\n",
       "Generator  H2                                     -8.779649e+08\n",
       "Store      co2 stored                             -2.000000e+08\n",
       "dtype: float64"
      ]
     },
     "metadata": {},
     "output_type": "display_data"
    }
   ],
   "source": [
    "dispatch = n.statistics.dispatch()\n",
    "threshold = 1e6\n",
    "dispatch[dispatch<-threshold]"
   ]
  },
  {
   "cell_type": "code",
   "execution_count": 30,
   "metadata": {},
   "outputs": [
    {
     "data": {
      "text/plain": [
       "877.9648946812578"
      ]
     },
     "execution_count": 30,
     "metadata": {},
     "output_type": "execute_result"
    }
   ],
   "source": [
    "n.generators_t.p.loc[:,\"H2 export load\"].sum() * n.snapshot_weightings.generators[0] / 1e6 # in TWh"
   ]
  },
  {
   "cell_type": "code",
   "execution_count": 32,
   "metadata": {},
   "outputs": [
    {
     "data": {
      "text/plain": [
       "<AxesSubplot:xlabel='snapshot'>"
      ]
     },
     "execution_count": 32,
     "metadata": {},
     "output_type": "execute_result"
    },
    {
     "data": {
      "image/png": "[encoded data removed]",
      "text/plain": [
       "<Figure size 640x480 with 1 Axes>"
      ]
     },
     "metadata": {},
     "output_type": "display_data"
    }
   ],
   "source": [
    "n.generators_t.p.loc[:,\"H2 export load\"].plot()"
   ]
  },
  {
   "cell_type": "markdown",
   "metadata": {},
   "source": [
    "### Total costs, revenue and objective value"
   ]
  },
  {
   "cell_type": "code",
   "execution_count": 37,
   "metadata": {},
   "outputs": [
    {
     "data": {
      "text/plain": [
       "component  carrier                     \n",
       "Load       AC                             -3.607304e+09\n",
       "           agriculture electricity        -5.356231e+08\n",
       "           agriculture oil                -1.592393e+08\n",
       "           gas emissions                  -3.487356e+08\n",
       "           gas for industry               -3.679596e+09\n",
       "           industry coal emissions        -1.702486e+09\n",
       "           industry electricity           -3.297476e+09\n",
       "           industry oil emissions         -7.777089e+08\n",
       "           kerosene for aviation          -1.232376e+09\n",
       "           land transport fuel cell       -1.011653e+08\n",
       "           land transport oil             -3.630727e+09\n",
       "           land transport oil emissions   -8.008495e+09\n",
       "           naphtha for industry           -3.525819e+08\n",
       "           oil emissions                  -1.180840e+09\n",
       "           process emissions              -7.346157e+08\n",
       "           residential biomass            -2.305930e+08\n",
       "           residential gas                -1.187844e+08\n",
       "           services electricity           -2.280349e+09\n",
       "           services gas                   -1.277413e+08\n",
       "           shipping oil                   -2.494982e+08\n",
       "           solid biomass for industry     -3.487594e+08\n",
       "Generator  H2                             -3.511775e+11\n",
       "Store      co2                            -7.147224e+10\n",
       "dtype: float64"
      ]
     },
     "execution_count": 37,
     "metadata": {},
     "output_type": "execute_result"
    }
   ],
   "source": [
    "rev = n.statistics.revenue()\n",
    "threshold = 1e8\n",
    "rev[rev<-threshold]"
   ]
  },
  {
   "cell_type": "markdown",
   "metadata": {},
   "source": [
    "### Check RE expansion"
   ]
  },
  {
   "cell_type": "code",
   "execution_count": 8,
   "metadata": {},
   "outputs": [
    {
     "data": {
      "text/plain": [
       "component  carrier                                  \n",
       "Generator  Coal                                           0.000000\n",
       "           Combined-Cycle Gas                             0.000000\n",
       "           Geothermal                                     0.000000\n",
       "           H2                                           104.283883\n",
       "           Offshore Wind (AC)                             2.862280\n",
       "           Offshore Wind (DC)                            19.545018\n",
       "           Oil                                            0.000000\n",
       "           Onshore Wind                                 239.419877\n",
       "           Open-Cycle Gas                                58.593911\n",
       "           Run of River                                   0.000000\n",
       "           Solar                                        356.353802\n",
       "           gas                                            0.740422\n",
       "           residential rural solar thermal                0.000043\n",
       "           residential urban decentral solar thermal      0.000043\n",
       "           services rural solar thermal                   0.000043\n",
       "           services urban decentral solar thermal         0.000043\n",
       "           urban central solar thermal                    0.000063\n",
       "dtype: float64"
      ]
     },
     "execution_count": 8,
     "metadata": {},
     "output_type": "execute_result"
    }
   ],
   "source": [
    "n.statistics.expanded_capacity(comps=[\"Generator\"]) / 1e3 # in GW"
   ]
  },
  {
   "cell_type": "code",
   "execution_count": 16,
   "metadata": {},
   "outputs": [
    {
     "data": {
      "text/html": [
       "<div>\n",
       "<style scoped>\n",
       "    .dataframe tbody tr th:only-of-type {\n",
       "        vertical-align: middle;\n",
       "    }\n",
       "\n",
       "    .dataframe tbody tr th {\n",
       "        vertical-align: top;\n",
       "    }\n",
       "\n",
       "    .dataframe thead th {\n",
       "        text-align: right;\n",
       "    }\n",
       "</style>\n",
       "<table border=\"1\" class=\"dataframe\">\n",
       "  <thead>\n",
       "    <tr style=\"text-align: right;\">\n",
       "      <th></th>\n",
       "      <th>co2_emissions</th>\n",
       "      <th>color</th>\n",
       "      <th>nice_name</th>\n",
       "      <th>max_growth</th>\n",
       "      <th>max_relative_growth</th>\n",
       "    </tr>\n",
       "    <tr>\n",
       "      <th>Carrier</th>\n",
       "      <th></th>\n",
       "      <th></th>\n",
       "      <th></th>\n",
       "      <th></th>\n",
       "      <th></th>\n",
       "    </tr>\n",
       "  </thead>\n",
       "  <tbody>\n",
       "    <tr>\n",
       "      <th>CCGT</th>\n",
       "      <td>0.187</td>\n",
       "      <td>#b20101</td>\n",
       "      <td>Combined-Cycle Gas</td>\n",
       "      <td>inf</td>\n",
       "      <td>0.0</td>\n",
       "    </tr>\n",
       "    <tr>\n",
       "      <th>geothermal</th>\n",
       "      <td>0.026</td>\n",
       "      <td>#ba91b1</td>\n",
       "      <td>Geothermal</td>\n",
       "      <td>inf</td>\n",
       "      <td>0.0</td>\n",
       "    </tr>\n",
       "    <tr>\n",
       "      <th>nuclear</th>\n",
       "      <td>0.000</td>\n",
       "      <td>#ff9000</td>\n",
       "      <td>Nuclear</td>\n",
       "      <td>inf</td>\n",
       "      <td>0.0</td>\n",
       "    </tr>\n",
       "    <tr>\n",
       "      <th>lignite</th>\n",
       "      <td>0.334</td>\n",
       "      <td>#9e5a01</td>\n",
       "      <td>Lignite</td>\n",
       "      <td>inf</td>\n",
       "      <td>0.0</td>\n",
       "    </tr>\n",
       "    <tr>\n",
       "      <th>OCGT</th>\n",
       "      <td>0.187</td>\n",
       "      <td>#d35050</td>\n",
       "      <td>Open-Cycle Gas</td>\n",
       "      <td>inf</td>\n",
       "      <td>0.0</td>\n",
       "    </tr>\n",
       "    <tr>\n",
       "      <th>biomass</th>\n",
       "      <td>0.000</td>\n",
       "      <td>#0c6013</td>\n",
       "      <td>Biomass</td>\n",
       "      <td>inf</td>\n",
       "      <td>0.0</td>\n",
       "    </tr>\n",
       "    <tr>\n",
       "      <th>coal</th>\n",
       "      <td>0.354</td>\n",
       "      <td>#707070</td>\n",
       "      <td>Coal</td>\n",
       "      <td>inf</td>\n",
       "      <td>0.0</td>\n",
       "    </tr>\n",
       "    <tr>\n",
       "      <th>oil</th>\n",
       "      <td>0.000</td>\n",
       "      <td>#262626</td>\n",
       "      <td>Oil</td>\n",
       "      <td>inf</td>\n",
       "      <td>0.0</td>\n",
       "    </tr>\n",
       "    <tr>\n",
       "      <th>hydro</th>\n",
       "      <td>0.000</td>\n",
       "      <td>#08ad97</td>\n",
       "      <td>Reservoir &amp; Dam</td>\n",
       "      <td>inf</td>\n",
       "      <td>0.0</td>\n",
       "    </tr>\n",
       "    <tr>\n",
       "      <th>offwind-ac</th>\n",
       "      <td>0.000</td>\n",
       "      <td>#6895dd</td>\n",
       "      <td>Offshore Wind (AC)</td>\n",
       "      <td>0.0</td>\n",
       "      <td>0.0</td>\n",
       "    </tr>\n",
       "    <tr>\n",
       "      <th>offwind-dc</th>\n",
       "      <td>0.000</td>\n",
       "      <td>#74c6f2</td>\n",
       "      <td>Offshore Wind (DC)</td>\n",
       "      <td>0.0</td>\n",
       "      <td>0.0</td>\n",
       "    </tr>\n",
       "    <tr>\n",
       "      <th>onwind</th>\n",
       "      <td>0.000</td>\n",
       "      <td>#235ebc</td>\n",
       "      <td>Onshore Wind</td>\n",
       "      <td>0.0</td>\n",
       "      <td>0.0</td>\n",
       "    </tr>\n",
       "    <tr>\n",
       "      <th>solar</th>\n",
       "      <td>0.000</td>\n",
       "      <td>#f9d002</td>\n",
       "      <td>Solar</td>\n",
       "      <td>0.0</td>\n",
       "      <td>0.0</td>\n",
       "    </tr>\n",
       "    <tr>\n",
       "      <th>PHS</th>\n",
       "      <td>0.000</td>\n",
       "      <td>#08ad97</td>\n",
       "      <td>Pumped Hydro Storage</td>\n",
       "      <td>inf</td>\n",
       "      <td>0.0</td>\n",
       "    </tr>\n",
       "    <tr>\n",
       "      <th>ror</th>\n",
       "      <td>0.000</td>\n",
       "      <td>#4adbc8</td>\n",
       "      <td>Run of River</td>\n",
       "      <td>inf</td>\n",
       "      <td>0.0</td>\n",
       "    </tr>\n",
       "    <tr>\n",
       "      <th>co2</th>\n",
       "      <td>-1.000</td>\n",
       "      <td></td>\n",
       "      <td></td>\n",
       "      <td>inf</td>\n",
       "      <td>0.0</td>\n",
       "    </tr>\n",
       "    <tr>\n",
       "      <th>gas</th>\n",
       "      <td>0.200</td>\n",
       "      <td></td>\n",
       "      <td></td>\n",
       "      <td>inf</td>\n",
       "      <td>0.0</td>\n",
       "    </tr>\n",
       "    <tr>\n",
       "      <th>H2</th>\n",
       "      <td>0.000</td>\n",
       "      <td></td>\n",
       "      <td></td>\n",
       "      <td>inf</td>\n",
       "      <td>0.0</td>\n",
       "    </tr>\n",
       "    <tr>\n",
       "      <th>battery</th>\n",
       "      <td>0.000</td>\n",
       "      <td></td>\n",
       "      <td></td>\n",
       "      <td>inf</td>\n",
       "      <td>0.0</td>\n",
       "    </tr>\n",
       "    <tr>\n",
       "      <th>residential rural heat</th>\n",
       "      <td>0.000</td>\n",
       "      <td></td>\n",
       "      <td></td>\n",
       "      <td>inf</td>\n",
       "      <td>0.0</td>\n",
       "    </tr>\n",
       "    <tr>\n",
       "      <th>residential rural water tanks</th>\n",
       "      <td>0.000</td>\n",
       "      <td></td>\n",
       "      <td></td>\n",
       "      <td>inf</td>\n",
       "      <td>0.0</td>\n",
       "    </tr>\n",
       "    <tr>\n",
       "      <th>residential rural solar thermal</th>\n",
       "      <td>0.000</td>\n",
       "      <td></td>\n",
       "      <td></td>\n",
       "      <td>inf</td>\n",
       "      <td>0.0</td>\n",
       "    </tr>\n",
       "    <tr>\n",
       "      <th>services rural heat</th>\n",
       "      <td>0.000</td>\n",
       "      <td></td>\n",
       "      <td></td>\n",
       "      <td>inf</td>\n",
       "      <td>0.0</td>\n",
       "    </tr>\n",
       "    <tr>\n",
       "      <th>services rural water tanks</th>\n",
       "      <td>0.000</td>\n",
       "      <td></td>\n",
       "      <td></td>\n",
       "      <td>inf</td>\n",
       "      <td>0.0</td>\n",
       "    </tr>\n",
       "    <tr>\n",
       "      <th>services rural solar thermal</th>\n",
       "      <td>0.000</td>\n",
       "      <td></td>\n",
       "      <td></td>\n",
       "      <td>inf</td>\n",
       "      <td>0.0</td>\n",
       "    </tr>\n",
       "    <tr>\n",
       "      <th>residential urban decentral heat</th>\n",
       "      <td>0.000</td>\n",
       "      <td></td>\n",
       "      <td></td>\n",
       "      <td>inf</td>\n",
       "      <td>0.0</td>\n",
       "    </tr>\n",
       "    <tr>\n",
       "      <th>residential urban decentral water tanks</th>\n",
       "      <td>0.000</td>\n",
       "      <td></td>\n",
       "      <td></td>\n",
       "      <td>inf</td>\n",
       "      <td>0.0</td>\n",
       "    </tr>\n",
       "    <tr>\n",
       "      <th>residential urban decentral solar thermal</th>\n",
       "      <td>0.000</td>\n",
       "      <td></td>\n",
       "      <td></td>\n",
       "      <td>inf</td>\n",
       "      <td>0.0</td>\n",
       "    </tr>\n",
       "    <tr>\n",
       "      <th>services urban decentral heat</th>\n",
       "      <td>0.000</td>\n",
       "      <td></td>\n",
       "      <td></td>\n",
       "      <td>inf</td>\n",
       "      <td>0.0</td>\n",
       "    </tr>\n",
       "    <tr>\n",
       "      <th>services urban decentral water tanks</th>\n",
       "      <td>0.000</td>\n",
       "      <td></td>\n",
       "      <td></td>\n",
       "      <td>inf</td>\n",
       "      <td>0.0</td>\n",
       "    </tr>\n",
       "    <tr>\n",
       "      <th>services urban decentral solar thermal</th>\n",
       "      <td>0.000</td>\n",
       "      <td></td>\n",
       "      <td></td>\n",
       "      <td>inf</td>\n",
       "      <td>0.0</td>\n",
       "    </tr>\n",
       "    <tr>\n",
       "      <th>urban central heat</th>\n",
       "      <td>0.000</td>\n",
       "      <td></td>\n",
       "      <td></td>\n",
       "      <td>inf</td>\n",
       "      <td>0.0</td>\n",
       "    </tr>\n",
       "    <tr>\n",
       "      <th>urban central water tanks</th>\n",
       "      <td>0.000</td>\n",
       "      <td></td>\n",
       "      <td></td>\n",
       "      <td>inf</td>\n",
       "      <td>0.0</td>\n",
       "    </tr>\n",
       "    <tr>\n",
       "      <th>urban central solar thermal</th>\n",
       "      <td>0.000</td>\n",
       "      <td></td>\n",
       "      <td></td>\n",
       "      <td>inf</td>\n",
       "      <td>0.0</td>\n",
       "    </tr>\n",
       "    <tr>\n",
       "      <th>biogas</th>\n",
       "      <td>0.000</td>\n",
       "      <td></td>\n",
       "      <td></td>\n",
       "      <td>inf</td>\n",
       "      <td>0.0</td>\n",
       "    </tr>\n",
       "    <tr>\n",
       "      <th>solid biomass</th>\n",
       "      <td>0.000</td>\n",
       "      <td></td>\n",
       "      <td></td>\n",
       "      <td>inf</td>\n",
       "      <td>0.0</td>\n",
       "    </tr>\n",
       "    <tr>\n",
       "      <th>Li ion</th>\n",
       "      <td>0.000</td>\n",
       "      <td></td>\n",
       "      <td></td>\n",
       "      <td>inf</td>\n",
       "      <td>0.0</td>\n",
       "    </tr>\n",
       "  </tbody>\n",
       "</table>\n",
       "</div>"
      ],
      "text/plain": [
       "                                           co2_emissions    color  \\\n",
       "Carrier                                                             \n",
       "CCGT                                               0.187  #b20101   \n",
       "geothermal                                         0.026  #ba91b1   \n",
       "nuclear                                            0.000  #ff9000   \n",
       "lignite                                            0.334  #9e5a01   \n",
       "OCGT                                               0.187  #d35050   \n",
       "biomass                                            0.000  #0c6013   \n",
       "coal                                               0.354  #707070   \n",
       "oil                                                0.000  #262626   \n",
       "hydro                                              0.000  #08ad97   \n",
       "offwind-ac                                         0.000  #6895dd   \n",
       "offwind-dc                                         0.000  #74c6f2   \n",
       "onwind                                             0.000  #235ebc   \n",
       "solar                                              0.000  #f9d002   \n",
       "PHS                                                0.000  #08ad97   \n",
       "ror                                                0.000  #4adbc8   \n",
       "co2                                               -1.000            \n",
       "gas                                                0.200            \n",
       "H2                                                 0.000            \n",
       "battery                                            0.000            \n",
       "residential rural heat                             0.000            \n",
       "residential rural water tanks                      0.000            \n",
       "residential rural solar thermal                    0.000            \n",
       "services rural heat                                0.000            \n",
       "services rural water tanks                         0.000            \n",
       "services rural solar thermal                       0.000            \n",
       "residential urban decentral heat                   0.000            \n",
       "residential urban decentral water tanks            0.000            \n",
       "residential urban decentral solar thermal          0.000            \n",
       "services urban decentral heat                      0.000            \n",
       "services urban decentral water tanks               0.000            \n",
       "services urban decentral solar thermal             0.000            \n",
       "urban central heat                                 0.000            \n",
       "urban central water tanks                          0.000            \n",
       "urban central solar thermal                        0.000            \n",
       "biogas                                             0.000            \n",
       "solid biomass                                      0.000            \n",
       "Li ion                                             0.000            \n",
       "\n",
       "                                                      nice_name  max_growth  \\\n",
       "Carrier                                                                       \n",
       "CCGT                                         Combined-Cycle Gas         inf   \n",
       "geothermal                                           Geothermal         inf   \n",
       "nuclear                                                 Nuclear         inf   \n",
       "lignite                                                 Lignite         inf   \n",
       "OCGT                                             Open-Cycle Gas         inf   \n",
       "biomass                                                 Biomass         inf   \n",
       "coal                                                       Coal         inf   \n",
       "oil                                                         Oil         inf   \n",
       "hydro                                           Reservoir & Dam         inf   \n",
       "offwind-ac                                   Offshore Wind (AC)         0.0   \n",
       "offwind-dc                                   Offshore Wind (DC)         0.0   \n",
       "onwind                                             Onshore Wind         0.0   \n",
       "solar                                                     Solar         0.0   \n",
       "PHS                                        Pumped Hydro Storage         inf   \n",
       "ror                                                Run of River         inf   \n",
       "co2                                                                     inf   \n",
       "gas                                                                     inf   \n",
       "H2                                                                      inf   \n",
       "battery                                                                 inf   \n",
       "residential rural heat                                                  inf   \n",
       "residential rural water tanks                                           inf   \n",
       "residential rural solar thermal                                         inf   \n",
       "services rural heat                                                     inf   \n",
       "services rural water tanks                                              inf   \n",
       "services rural solar thermal                                            inf   \n",
       "residential urban decentral heat                                        inf   \n",
       "residential urban decentral water tanks                                 inf   \n",
       "residential urban decentral solar thermal                               inf   \n",
       "services urban decentral heat                                           inf   \n",
       "services urban decentral water tanks                                    inf   \n",
       "services urban decentral solar thermal                                  inf   \n",
       "urban central heat                                                      inf   \n",
       "urban central water tanks                                               inf   \n",
       "urban central solar thermal                                             inf   \n",
       "biogas                                                                  inf   \n",
       "solid biomass                                                           inf   \n",
       "Li ion                                                                  inf   \n",
       "\n",
       "                                           max_relative_growth  \n",
       "Carrier                                                         \n",
       "CCGT                                                       0.0  \n",
       "geothermal                                                 0.0  \n",
       "nuclear                                                    0.0  \n",
       "lignite                                                    0.0  \n",
       "OCGT                                                       0.0  \n",
       "biomass                                                    0.0  \n",
       "coal                                                       0.0  \n",
       "oil                                                        0.0  \n",
       "hydro                                                      0.0  \n",
       "offwind-ac                                                 0.0  \n",
       "offwind-dc                                                 0.0  \n",
       "onwind                                                     0.0  \n",
       "solar                                                      0.0  \n",
       "PHS                                                        0.0  \n",
       "ror                                                        0.0  \n",
       "co2                                                        0.0  \n",
       "gas                                                        0.0  \n",
       "H2                                                         0.0  \n",
       "battery                                                    0.0  \n",
       "residential rural heat                                     0.0  \n",
       "residential rural water tanks                              0.0  \n",
       "residential rural solar thermal                            0.0  \n",
       "services rural heat                                        0.0  \n",
       "services rural water tanks                                 0.0  \n",
       "services rural solar thermal                               0.0  \n",
       "residential urban decentral heat                           0.0  \n",
       "residential urban decentral water tanks                    0.0  \n",
       "residential urban decentral solar thermal                  0.0  \n",
       "services urban decentral heat                              0.0  \n",
       "services urban decentral water tanks                       0.0  \n",
       "services urban decentral solar thermal                     0.0  \n",
       "urban central heat                                         0.0  \n",
       "urban central water tanks                                  0.0  \n",
       "urban central solar thermal                                0.0  \n",
       "biogas                                                     0.0  \n",
       "solid biomass                                              0.0  \n",
       "Li ion                                                     0.0  "
      ]
     },
     "execution_count": 16,
     "metadata": {},
     "output_type": "execute_result"
    }
   ],
   "source": [
    "n.carriers"
   ]
  },
  {
   "cell_type": "code",
   "execution_count": 20,
   "metadata": {},
   "outputs": [
    {
     "data": {
      "text/plain": [
       "Index([], dtype='int64', name='name')"
      ]
     },
     "execution_count": 20,
     "metadata": {},
     "output_type": "execute_result"
    }
   ],
   "source": [
    "n.investment_periods"
   ]
  },
  {
   "cell_type": "code",
   "execution_count": 22,
   "metadata": {},
   "outputs": [
    {
     "name": "stderr",
     "output_type": "stream",
     "text": [
      "INFO:pypsa.components:Repeating time-series for each investment period and converting snapshots to a pandas.MultiIndex.\n"
     ]
    }
   ],
   "source": [
    "n.set_investment_periods(periods=[2030])"
   ]
  },
  {
   "cell_type": "code",
   "execution_count": 27,
   "metadata": {},
   "outputs": [
    {
     "name": "stdout",
     "output_type": "stream",
     "text": [
      "not multi_invest\n"
     ]
    }
   ],
   "source": [
    "n._multi_invest"
   ]
  },
  {
   "cell_type": "code",
   "execution_count": 29,
   "metadata": {},
   "outputs": [
    {
     "data": {
      "text/plain": [
       "-2.107404854121696"
      ]
     },
     "execution_count": 29,
     "metadata": {},
     "output_type": "execute_result"
    }
   ],
   "source": [
    "n.objective / 1e11"
   ]
  }
 ],
 "metadata": {
  "kernelspec": {
   "display_name": "pypsa-earth",
   "language": "python",
   "name": "python3"
  },
  "language_info": {
   "codemirror_mode": {
    "name": "ipython",
    "version": 3
   },
   "file_extension": ".py",
   "mimetype": "text/x-python",
   "name": "python",
   "nbconvert_exporter": "python",
   "pygments_lexer": "ipython3",
   "version": "3.10.12"
  }
 },
 "nbformat": 4,
 "nbformat_minor": 2
}
