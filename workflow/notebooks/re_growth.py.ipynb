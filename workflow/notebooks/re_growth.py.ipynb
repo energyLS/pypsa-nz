{
 "cells": [
  {
   "cell_type": "code",
   "execution_count": null,
   "metadata": {},
   "outputs": [],
   "source": [
    "import pandas as pd\n",
    "import matplotlib.pyplot as plt\n",
    "import numpy as np\n",
    "from helpers import load_config"
   ]
  },
  {
   "cell_type": "code",
   "execution_count": null,
   "metadata": {},
   "outputs": [],
   "source": [
    "PREFIX = \"/mnt/c/Users/scl38887/Documents/git/pypsa-nz/\"\n",
    "tech_colors = PREFIX + \"config/tech_colors.yaml\""
   ]
  },
  {
   "cell_type": "code",
   "execution_count": null,
   "metadata": {},
   "outputs": [],
   "source": [
    "colors = load_config(tech_colors)    "
   ]
  },
  {
   "cell_type": "code",
   "execution_count": null,
   "metadata": {},
   "outputs": [],
   "source": [
    "country = \"NZL\"\n",
    "kickoff_year = 2023"
   ]
  },
  {
   "cell_type": "markdown",
   "metadata": {},
   "source": [
    "### Read and prepare RE production data"
   ]
  },
  {
   "cell_type": "code",
   "execution_count": null,
   "metadata": {},
   "outputs": [],
   "source": [
    "# Read data https://ourworldindata.org/renewable-energy\n",
    "#re_prod = pd.read_csv('../../data/owid/modern-renewable-prod.csv')\n",
    "re_prod = pd.read_csv(snakemake.input.reprod)"
   ]
  },
  {
   "cell_type": "code",
   "execution_count": null,
   "metadata": {},
   "outputs": [],
   "source": [
    "re_prod = re_prod[re_prod.Code == country]\n",
    "re_prod = re_prod.dropna(subset=['Code'])\n",
    "re_prod = re_prod.set_index('Year')\n",
    "re_prod = re_prod.sort_index()\n",
    "re_prod = re_prod.dropna(subset=['Code'])\n",
    "re_prod = re_prod.rename(columns={'Electricity from wind - TWh': 'wind',\n",
    "                                  'Electricity from solar - TWh': 'solar',\n",
    "                                  \"Electricity from hydro - TWh\": \"hydro\",\n",
    "                                  \"Other renewables including bioenergy - TWh\": \"others\",})"
   ]
  },
  {
   "cell_type": "markdown",
   "metadata": {},
   "source": [
    "### Read and prepare demand data"
   ]
  },
  {
   "cell_type": "code",
   "execution_count": null,
   "metadata": {},
   "outputs": [],
   "source": [
    "#edemand = pd.read_csv('../../data/owid/electricity-demand.csv')\n",
    "edemand = pd.read_csv(snakemake.input.edemand)"
   ]
  },
  {
   "cell_type": "code",
   "execution_count": null,
   "metadata": {},
   "outputs": [],
   "source": [
    "edemand = edemand[edemand.Year == kickoff_year]\n",
    "edemand = edemand[edemand.Code == country]\n",
    "# Drop rows where Code is NaN\n",
    "edemand = edemand.dropna(subset=['Code'])\n",
    "edemand = edemand.rename(columns={'Electricity demand - TWh': 'edemand'})"
   ]
  },
  {
   "cell_type": "code",
   "execution_count": null,
   "metadata": {},
   "outputs": [],
   "source": [
    "edemand.edemand.values[0]"
   ]
  },
  {
   "cell_type": "markdown",
   "metadata": {},
   "source": [
    "### Add Growth"
   ]
  },
  {
   "cell_type": "code",
   "execution_count": null,
   "metadata": {},
   "outputs": [],
   "source": [
    "techs = [\"wind\", \"solar\"]\n",
    "growth = {\"solar\": [0.6,1.7],\n",
    "     \"wind\": [0.8,1.4]} # in %, obtained from 10.1038/s41560-021-00863-0\n",
    "#g_solar = 10 # in %\n",
    "demand=edemand.edemand.values[0] # Demand at takeoff year\n",
    "years=np.array(range(re_prod.index[-1],2050+1,1))\n",
    "new_supply = pd.DataFrame(index=years)\n",
    "\n",
    "for tech in techs:\n",
    "     floor=re_prod[tech].iloc[-1] # Solar/wind production at takeoff year\n",
    "\n",
    "     for g in growth[tech]:\n",
    "          new_supply_tech = g/100 * demand * (years-re_prod.index[-1]) + floor\n",
    "          new_supply[tech+str(g)] = new_supply_tech"
   ]
  },
  {
   "cell_type": "markdown",
   "metadata": {},
   "source": [
    "### Plot"
   ]
  },
  {
   "cell_type": "code",
   "execution_count": null,
   "metadata": {},
   "outputs": [],
   "source": [
    "# Set up figure\n",
    "fig = plt.figure(facecolor='white', figsize=(10, 5))\n",
    "\n",
    "ax = fig.add_subplot(1,1,1)\n",
    "\n",
    "ax.plot(\"wind\", data=re_prod, color=colors[\"tech_colors\"][\"onshore wind\"], label=\"wind\")\n",
    "ax.plot(\"solar\", data=re_prod, color=colors[\"tech_colors\"][\"solar PV\"], label=\"solar\")\n",
    "\n",
    "# Add growth\n",
    "for tech in techs:\n",
    "     for g in growth[tech]:\n",
    "          ax.plot(new_supply.index, new_supply[tech+str(g)], color=colors[\"tech_colors\"][tech], alpha=0.5, linestyle=\"--\", label=f\"{tech} {g}%\")\n",
    "\n",
    "# Add vertical line at 2035\n",
    "\n",
    "\n",
    "# Add historical/projected RE feed in\n",
    "height = 20\n",
    "ax.axvline(x=re_prod.index[-1], color='black', alpha=0.3)\n",
    "plt.text(re_prod.index[-1]+0.4, height, 'projected', color='black', alpha=0.5)\n",
    "plt.text(re_prod.index[-1]-4.4, height, 'historical', color='black', alpha=0.5)\n",
    "plt.arrow(re_prod.index[-1]+5, height+0.27, 0.5, 0, head_width=0.5, head_length=0.5, fc='black', ec='black', alpha=0.5,)\n",
    "plt.arrow(re_prod.index[-1]-4.5, height+0.27, -0.5, 0, head_width=0.5, head_length=0.5, fc='black', ec='black', alpha=0.5)\n",
    "\n",
    "# Limit the plot\n",
    "ax.set_xlim(2000, 2050)\n",
    "# ax.set_ylim(0,100)\n",
    "\n",
    "# Further elements\n",
    "ax.set_ylabel(\"Electricity generation in TWh\")\n",
    "ax.set_xlabel(\"Year\")\n",
    "plt.grid(alpha=0.4)\n",
    "plt.legend()\n",
    "\n",
    "# Create graph and save it\n",
    "fig.savefig(snakemake.output.regrowth, bbox_inches=\"tight\")\n",
    "\n",
    "plt.show()"
   ]
  },
  {
   "cell_type": "markdown",
   "id": "006f0a1d",
   "metadata": {},
   "source": [
    "### Save RE production data"
   ]
  },
  {
   "cell_type": "code",
   "execution_count": null,
   "id": "34aafcd7",
   "metadata": {},
   "outputs": [],
   "source": [
    "new_supply.to_csv(snakemake.output.regrowth_data)"
   ]
  }
 ],
 "metadata": {
  "kernelspec": {
   "display_name": "pypsa-earth",
   "language": "python",
   "name": "python3"
  },
  "language_info": {
   "codemirror_mode": {
    "name": "ipython",
    "version": 3
   },
   "file_extension": ".py",
   "mimetype": "text/x-python",
   "name": "python",
   "nbconvert_exporter": "python",
   "pygments_lexer": "ipython3",
   "version": "3.10.12"
  }
 },
 "nbformat": 4,
 "nbformat_minor": 5
}
