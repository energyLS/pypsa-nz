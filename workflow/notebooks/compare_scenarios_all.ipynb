{
 "cells": [
  {
   "cell_type": "code",
   "execution_count": null,
   "metadata": {},
   "outputs": [],
   "source": [
    "import pandas as pd\n",
    "import numpy as np\n",
    "import os \n",
    "import matplotlib.pyplot as plt\n",
    "import pypsa\n",
    "import yaml"
   ]
  },
  {
   "cell_type": "markdown",
   "metadata": {},
   "source": [
    "### Scenario selection"
   ]
  },
  {
   "cell_type": "code",
   "execution_count": null,
   "metadata": {},
   "outputs": [],
   "source": [
    "PREFIX = \"/mnt/c/Users/scl38887/Documents/git/pypsa-nz/\""
   ]
  },
  {
   "cell_type": "code",
   "execution_count": null,
   "metadata": {},
   "outputs": [],
   "source": [
    "OUTPUT = PREFIX + \"results/figures/comp/\""
   ]
  },
  {
   "cell_type": "code",
   "execution_count": null,
   "metadata": {},
   "outputs": [],
   "source": [
    "# Specify the scenario name and the path here\n",
    "scenarios = {#\"0\": PREFIX + f\"results/nz_2030_exp/postnetworks/elec_s_10_ec_lc3.0_CO2L_3H_2030_0.071_AB_0export.nc\",\n",
    "            \"nz_endo\": PREFIX + f\"results/nz_endo/postnetworks/elec_s_10_ec_lc3.0_CO2L_3H_2030_0.071_AB_0export.nc\",\n",
    "            #\"40\": PREFIX + f\"results/nz_2030_exp/postnetworks/elec_s_10_ec_lc3.0_CO2L_3H_2030_0.071_AB_40export.nc\",\n",
    "            \"nz_v04\": PREFIX + f\"results/nz_v04/postnetworks/elec_s_10_ec_lc3.0_CO2L_3H_2030_0.071_AB_20export.nc\",\n",
    "}\n",
    "\n",
    "\n",
    "# Transport scenarios; add full path in order to work\n",
    "# scenarios = {\"10\": \"nz_nosmr\",\n",
    "#         \"15\": \"nz_ts15\",\n",
    "#         \"25\": \"nz_ts25\",\n",
    "#        }\n",
    "\n",
    "# 2030-2050 scenarios; add full path in order to work\n",
    "# scenarios = {\"2030\": \"nz_nosmr\",\n",
    "#         \"2050\": \"nz_2050_cap\",\n",
    "#        }"
   ]
  },
  {
   "cell_type": "markdown",
   "metadata": {},
   "source": [
    "### Settings"
   ]
  },
  {
   "cell_type": "code",
   "execution_count": null,
   "metadata": {},
   "outputs": [],
   "source": [
    "tech_colors = PREFIX + \"config/tech_colors.yaml\""
   ]
  },
  {
   "cell_type": "code",
   "execution_count": null,
   "metadata": {},
   "outputs": [],
   "source": [
    "threshold_dispatch = 1e6 # 4 TWh"
   ]
  },
  {
   "cell_type": "code",
   "execution_count": null,
   "metadata": {},
   "outputs": [],
   "source": [
    "xlabel = \"\" #\"EV share in %\" for transport scenarios\n",
    "plotname = \"endogenousexport\" #\"ev_share\" for transport scenarios; \"2030-2050cap\" for 2030-2050 scenarios"
   ]
  },
  {
   "cell_type": "markdown",
   "metadata": {},
   "source": [
    "### Data preparation"
   ]
  },
  {
   "cell_type": "code",
   "execution_count": null,
   "metadata": {},
   "outputs": [],
   "source": [
    "def load_config(config):\n",
    "    with open(config, 'r') as stream:\n",
    "        try:\n",
    "            config = yaml.safe_load(stream)\n",
    "        except yaml.YAMLError as exc:\n",
    "            print(exc)\n",
    "    return config"
   ]
  },
  {
   "cell_type": "markdown",
   "metadata": {},
   "source": [
    "### Dispatch data preparation"
   ]
  },
  {
   "cell_type": "code",
   "execution_count": null,
   "metadata": {},
   "outputs": [],
   "source": [
    "for sc in scenarios:\n",
    "    print(sc)\n",
    "    print(scenarios[sc])"
   ]
  },
  {
   "cell_type": "code",
   "execution_count": null,
   "metadata": {},
   "outputs": [],
   "source": [
    "def get_dispatch(threshold_dispatch, show_demand=True):\n",
    "    \"\"\"Get dispatch\n",
    "    \"\"\"\n",
    "\n",
    "    dispatch_all = pd.DataFrame()\n",
    "\n",
    "    for sc in scenarios:\n",
    "\n",
    "        n = pypsa.Network(scenarios[sc])\n",
    "\n",
    "        dispatch = n.statistics.dispatch(bus_carrier=\"AC\")[n.statistics.dispatch(bus_carrier=\"AC\") > 0]\n",
    "        threshold_dispatch_sum = dispatch[dispatch < threshold_dispatch].sum()\n",
    "        dispatch = dispatch[dispatch > threshold_dispatch]\n",
    "        dispatch = pd.DataFrame(dispatch.droplevel(0)).T\n",
    "        dispatch[f\"(Dispatch < {threshold_dispatch/1e6} TWh thres.)\"] = threshold_dispatch_sum\n",
    "\n",
    "        dispatch.index = [sc]\n",
    "\n",
    "        dispatch_all = pd.concat([dispatch_all, dispatch], axis=0) #, ignore_index=True)\n",
    "\n",
    "    if show_demand == \"bar\":\n",
    "        dispatch_demand = n.statistics.dispatch(bus_carrier=\"AC\")[n.statistics.dispatch(bus_carrier=\"AC\") < 0]\n",
    "        ely_electricity = dispatch_demand.droplevel(0).loc[\"H2 Electrolysis\"].sum() * (-1)\n",
    "        total_demand = dispatch_demand.sum() * (-1)\n",
    "        other_demand = total_demand - ely_electricity\n",
    "        dispatch_all.loc[\"Demand\", \"H2 Electrolysis electricity\"] = ely_electricity\n",
    "        dispatch_all.loc[\"Demand\", \"Domestic electricity\"] = other_demand\n",
    "        \n",
    "    elif show_demand == \"line\":\n",
    "        dispatch_demand = n.statistics.dispatch(bus_carrier=\"AC\")[n.statistics.dispatch(bus_carrier=\"AC\") < 0]\n",
    "        ely_electricity = dispatch_demand.droplevel(0).loc[\"H2 Electrolysis\"].sum() * (-1)\n",
    "        total_demand = dispatch_demand.sum() * (-1)\n",
    "        other_demand = total_demand - ely_electricity\n",
    "        dispatch_all.loc[:, \"H2 Electrolysis electricity\"] = ely_electricity\n",
    "        dispatch_all.loc[:, \"Domestic electricity\"] = other_demand\n",
    "        \n",
    "    \n",
    "    return dispatch_all"
   ]
  },
  {
   "cell_type": "code",
   "execution_count": null,
   "metadata": {},
   "outputs": [],
   "source": [
    "dispatch = get_dispatch(threshold_dispatch, show_demand=False)"
   ]
  },
  {
   "cell_type": "code",
   "execution_count": null,
   "metadata": {},
   "outputs": [],
   "source": [
    "dispatch"
   ]
  },
  {
   "cell_type": "markdown",
   "metadata": {},
   "source": [
    "### Plot data"
   ]
  },
  {
   "cell_type": "code",
   "execution_count": null,
   "metadata": {},
   "outputs": [],
   "source": [
    "fig, ax = plt.subplots(figsize=(6, 4))\n",
    "\n",
    "# Get colors from yaml defined in tech_colors\n",
    "colors = load_config(tech_colors)[\"tech_colors\"]\n",
    "\n",
    "# Sort columns by highest value in first row\n",
    "dispatch_sorted = dispatch[dispatch.iloc[-1].sort_values(ascending=False).index]\n",
    "dispatch_twh = dispatch_sorted / 1e6 # convert to TWh\n",
    "\n",
    "dispatch_twh.plot.bar(ax=ax, stacked=True, alpha=0.8, color=colors)\n",
    "\n",
    "plt.xlabel(xlabel)\n",
    "plt.ylabel(\"Dispatch in TWh\")\n",
    "handles, labels = ax.get_legend_handles_labels()\n",
    "ax.legend(reversed(handles), reversed(labels), loc='upper left', bbox_to_anchor=(1, 1))\n",
    "plt.xticks(rotation=0)\n",
    "#plt.ylim(0, 250)\n",
    "\n",
    "plt.grid(axis='y', alpha=0.5) \n",
    "\n",
    "fig.savefig(OUTPUT + plotname + f\".pdf\", bbox_inches=\"tight\")\n",
    "fig.savefig(OUTPUT + plotname + f\".png\", bbox_inches=\"tight\")"
   ]
  }
 ],
 "metadata": {
  "kernelspec": {
   "display_name": "pypsa-earth",
   "language": "python",
   "name": "python3"
  },
  "language_info": {
   "codemirror_mode": {
    "name": "ipython",
    "version": 3
   },
   "file_extension": ".py",
   "mimetype": "text/x-python",
   "name": "python",
   "nbconvert_exporter": "python",
   "pygments_lexer": "ipython3",
   "version": "3.10.12"
  }
 },
 "nbformat": 4,
 "nbformat_minor": 2
}
