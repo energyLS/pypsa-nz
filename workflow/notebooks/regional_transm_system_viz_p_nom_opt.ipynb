{
 "cells": [
  {
   "attachments": {},
   "cell_type": "markdown",
   "id": "b5b48cd0-a978-4d98-bef0-af7292123973",
   "metadata": {},
   "source": [
    "# PyPSA-Eur style power system plot"
   ]
  },
  {
   "attachments": {},
   "cell_type": "markdown",
   "id": "178e6cf8-d119-4f7a-8ce6-d3679474e9b7",
   "metadata": {},
   "source": [
    "## Authored by F.Hofmann\n",
    "\n",
    "The notebook reproduces the plot like a beautiful scheme of the\n",
    "European Transmission System published in https://arxiv.org/abs/1806.01613."
   ]
  },
  {
   "cell_type": "code",
   "execution_count": null,
   "id": "80bdecb2-fa99-46b4-96ed-fd8cb22683ea",
   "metadata": {},
   "outputs": [],
   "source": [
    "#\"\"\"\n",
    "#Created on Mon Sep 19 15:51:31 2022\n",
    "#\n",
    "#@author: fabian\n",
    "#\"\"\""
   ]
  },
  {
   "cell_type": "code",
   "execution_count": null,
   "id": "b6017ad8-476e-4307-b084-bc0f4ce1bb13",
   "metadata": {},
   "outputs": [],
   "source": [
    "import pypsa\n",
    "import matplotlib.pyplot as plt\n",
    "import geopandas as gpd\n",
    "import numpy as np\n",
    "import pandas as pd\n",
    "from pathlib import Path\n",
    "import seaborn as sns\n",
    "from datetime import datetime\n",
    "from cartopy import crs as ccrs\n",
    "from pypsa.plot import add_legend_circles, add_legend_lines, add_legend_patches\n",
    "import plotly.express as px\n",
    "import hvplot.pandas\n",
    "import matplotlib.colors as mcolors"
   ]
  },
  {
   "attachments": {},
   "cell_type": "markdown",
   "id": "edfaec76-0f01-4a7c-a882-c8acd9dc7e40",
   "metadata": {},
   "source": [
    "Two files are needed:\n",
    "* PyPSA network file (e.g. \"elec.nc\" contains a lot of details and looks perfect)\n",
    "* a country shape file (may by found in \"resources/shapes/country_shapes.geojson\")"
   ]
  },
  {
   "cell_type": "code",
   "execution_count": null,
   "id": "c2932ea6-96b0-4ddb-a05b-6ed531d40964",
   "metadata": {},
   "outputs": [],
   "source": [
    "scenario_name = \"\"  # scenario name, default value is \"\" for tutorial or default configuration\n",
    "                    # value shall be non null if a scenario name is specified under the \"run\" tag in the config file\n",
    "\n",
    "scenario_subpath = scenario_name + \"/\" if scenario_name else \"\"\n",
    "\n",
    "export_level = 0\n",
    "\n",
    "n=pypsa.Network(f\"../../results/nz_initial/postnetworks/elec_s_10_ec_lc1.0_Co2L_3H_2030_0.071_AB_{export_level}export.nc\")\n",
    "regions_onshore = gpd.read_file(\"../../results/shapes/country_shapes.geojson\")"
   ]
  },
  {
   "cell_type": "code",
   "execution_count": null,
   "id": "b997977c",
   "metadata": {},
   "outputs": [],
   "source": [
    "OUTPUT = f\"../../results/figures/solar_{export_level}export.pdf\"\n",
    "OUTPUT_png = f\"../../results/figures/solar_{export_level}export.png\""
   ]
  },
  {
   "attachments": {},
   "cell_type": "markdown",
   "id": "4ab560ce-d669-4959-a71d-37dc7608f05c",
   "metadata": {},
   "source": [
    "Define plot parameters:"
   ]
  },
  {
   "cell_type": "code",
   "execution_count": null,
   "id": "f2c36aad-9a67-4aa8-bb81-41c6e4748669",
   "metadata": {},
   "outputs": [],
   "source": [
    "bus_scale = 5e3 \n",
    "line_scale = 3e3"
   ]
  },
  {
   "cell_type": "code",
   "execution_count": null,
   "id": "3c6f98d7",
   "metadata": {},
   "outputs": [],
   "source": [
    "solar = n.generators[n.generators.carrier == \"solar\"] #.p_nom_opt #.sum()"
   ]
  },
  {
   "cell_type": "code",
   "execution_count": null,
   "id": "14e061d6",
   "metadata": {},
   "outputs": [],
   "source": [
    "export = n.links_t.p0.loc[:, n.links[n.links.bus1==\"H2 export bus\"].index]"
   ]
  },
  {
   "cell_type": "code",
   "execution_count": null,
   "id": "ade21c76",
   "metadata": {},
   "outputs": [],
   "source": [
    "export.plot(ylabel=\"Hydrogen export (MW)\", title=f\"Export {export_level} TWh\") #[0:2000]"
   ]
  },
  {
   "cell_type": "code",
   "execution_count": null,
   "id": "c5f9b58e",
   "metadata": {},
   "outputs": [],
   "source": [
    "export.sum() * n.snapshot_weightings.generators[0]"
   ]
  },
  {
   "cell_type": "code",
   "execution_count": null,
   "id": "b71b24c1",
   "metadata": {},
   "outputs": [],
   "source": [
    "n.links[n.links.carrier==\"H2 Electrolysis\"].p_nom_opt.sum()"
   ]
  },
  {
   "cell_type": "code",
   "execution_count": null,
   "id": "0ab58dda",
   "metadata": {},
   "outputs": [],
   "source": [
    "# add x and y coordinates of buses to the solar df\n",
    "x = n.buses.loc[solar.bus.values].x.values\n",
    "y = n.buses.loc[solar.bus.values].y.values\n",
    "\n",
    "# combine to geodataframe\n",
    "solar = gpd.GeoDataFrame(solar, geometry=gpd.points_from_xy(x, y))"
   ]
  },
  {
   "cell_type": "code",
   "execution_count": null,
   "id": "7579e092",
   "metadata": {},
   "outputs": [],
   "source": [
    "capacity_scale = 10\n",
    "extent = [165.0, 180.0, -48.0, -33.0] # for country NZ [165.0, 180.0, -50.0, -25.0] \n",
    "parameter = \"p_nom_opt\""
   ]
  },
  {
   "cell_type": "code",
   "execution_count": null,
   "id": "4559dd89-aea3-42ac-9fc1-2fe7c81035b6",
   "metadata": {},
   "outputs": [],
   "source": [
    "fig, ax = plt.subplots(figsize=(8, 8), subplot_kw={\"projection\": ccrs.PlateCarree(), \"frameon\": False})\n",
    "\n",
    "regions_onshore.plot(\n",
    "    ax=ax,\n",
    "    facecolor=\"whitesmoke\",\n",
    "    edgecolor=\"black\",\n",
    "    aspect=\"equal\",\n",
    "    transform=ccrs.PlateCarree(),\n",
    "    linewidth=0.2,\n",
    ")\n",
    "solar.plot(ax=ax, \n",
    "           color=\"#f9d002\",\n",
    "            markersize=solar[parameter] / capacity_scale, \n",
    "            alpha=0.7,\n",
    "            transform=ccrs.PlateCarree()\n",
    "            )\n",
    "\n",
    "\n",
    "\n",
    "ax.set_extent(extent)\n",
    "fig.tight_layout()\n",
    "fig.savefig(OUTPUT, bbox_inches=\"tight\", dpi=300)\n",
    "fig.savefig(OUTPUT_png, bbox_inches=\"tight\", dpi=300)"
   ]
  }
 ],
 "metadata": {
  "kernelspec": {
   "display_name": "Python 3 (ipykernel)",
   "language": "python",
   "name": "python3"
  },
  "language_info": {
   "codemirror_mode": {
    "name": "ipython",
    "version": 3
   },
   "file_extension": ".py",
   "mimetype": "text/x-python",
   "name": "python",
   "nbconvert_exporter": "python",
   "pygments_lexer": "ipython3",
   "version": "3.10.12"
  }
 },
 "nbformat": 4,
 "nbformat_minor": 5
}
