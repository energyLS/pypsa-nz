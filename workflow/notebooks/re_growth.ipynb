{
 "cells": [
  {
   "cell_type": "code",
   "execution_count": null,
   "metadata": {},
   "outputs": [],
   "source": [
    "import pandas as pd\n",
    "import matplotlib.pyplot as plt\n",
    "import numpy as np\n",
    "from helpers import load_config"
   ]
  },
  {
   "cell_type": "code",
   "execution_count": null,
   "metadata": {},
   "outputs": [],
   "source": [
    "PREFIX = \"/mnt/c/Users/scl38887/Documents/git/pypsa-nz/\"\n",
    "tech_colors = PREFIX + \"config/tech_colors.yaml\""
   ]
  },
  {
   "cell_type": "code",
   "execution_count": null,
   "metadata": {},
   "outputs": [],
   "source": [
    "colors = load_config(tech_colors)    "
   ]
  },
  {
   "cell_type": "code",
   "execution_count": null,
   "metadata": {},
   "outputs": [],
   "source": [
    "country = \"NZL\""
   ]
  },
  {
   "cell_type": "code",
   "execution_count": null,
   "metadata": {},
   "outputs": [],
   "source": [
    "# Read data https://ourworldindata.org/renewable-energy\n",
    "re_prod = pd.read_csv('../../data/owid/modern-renewable-prod.csv')"
   ]
  },
  {
   "cell_type": "code",
   "execution_count": null,
   "metadata": {},
   "outputs": [],
   "source": [
    "re_prod = re_prod[re_prod.Code == country]\n",
    "re_prod = re_prod.dropna(subset=['Code'])\n",
    "re_prod = re_prod.set_index('Year')\n",
    "re_prod = re_prod.sort_index()\n",
    "re_prod = re_prod.dropna(subset=['Code'])\n",
    "re_prod = re_prod.rename(columns={'Electricity from wind - TWh': 'wind',\n",
    "                                  'Electricity from solar - TWh': 'solar',\n",
    "                                  \"Electricity from hydro - TWh\": \"hydro\",\n",
    "                                  \"Other renewables including bioenergy - TWh\": \"others\",})"
   ]
  },
  {
   "cell_type": "markdown",
   "metadata": {},
   "source": [
    "### Add Growth"
   ]
  },
  {
   "cell_type": "code",
   "execution_count": null,
   "metadata": {},
   "outputs": [],
   "source": [
    "g = 1.4/100 # in %\n",
    "year=2025 #np.array(range(re_prod.index[-1]+1,2050+1,1))\n",
    "demand=10\n",
    "floor=7\n",
    "solar_growth =  (demand * g) * (1+g) ** (year-2023)\n",
    "#solar_growth_df = pd.DataFrame(solar_growth, index=year, columns=[\"solar\"])"
   ]
  },
  {
   "cell_type": "code",
   "execution_count": null,
   "metadata": {},
   "outputs": [],
   "source": [
    "solar_growth"
   ]
  },
  {
   "cell_type": "markdown",
   "metadata": {},
   "source": [
    "### Plot"
   ]
  },
  {
   "cell_type": "code",
   "execution_count": null,
   "metadata": {},
   "outputs": [],
   "source": [
    "# Set up figure\n",
    "fig = plt.figure(facecolor='white', figsize=(10, 5))\n",
    "\n",
    "ax = fig.add_subplot(1,1,1)\n",
    "\n",
    "ax.plot(\"wind\", data=re_prod, color=colors[\"tech_colors\"][\"onshore wind\"], label=\"Wind\")\n",
    "ax.plot(\"solar\", data=re_prod, color=colors[\"tech_colors\"][\"solar PV\"], label=\"Solar\")\n",
    "\n",
    "# Limit the plot\n",
    "ax.set_xlim(1990, 2045)\n",
    "# ax.set_ylim(0,100)\n",
    "\n",
    "# Further elements\n",
    "ax.set_ylabel(\"Electricity generation in TWh\")\n",
    "ax.set_xlabel(\"Year\")\n",
    "plt.grid(alpha=0.4)\n",
    "\n",
    "# Create graph and save it\n",
    "#fig.savefig(snakemake.output.reshares, bbox_inches=\"tight\")\n",
    "\n",
    "plt.show()"
   ]
  }
 ],
 "metadata": {
  "kernelspec": {
   "display_name": "pypsa-earth",
   "language": "python",
   "name": "python3"
  },
  "language_info": {
   "codemirror_mode": {
    "name": "ipython",
    "version": 3
   },
   "file_extension": ".py",
   "mimetype": "text/x-python",
   "name": "python",
   "nbconvert_exporter": "python",
   "pygments_lexer": "ipython3",
   "version": "3.10.12"
  }
 },
 "nbformat": 4,
 "nbformat_minor": 2
}
