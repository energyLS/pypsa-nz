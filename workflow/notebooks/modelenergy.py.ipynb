{
 "cells": [
  {
   "cell_type": "code",
   "execution_count": null,
   "metadata": {},
   "outputs": [],
   "source": [
    "import pypsa\n",
    "import pandas as pd\n",
    "import matplotlib.pyplot as plt\n",
    "import sys\n",
    "from pathlib import Path\n",
    "import os\n",
    "#os.chdir(os.path.dirname(os.path.abspath(__file__)))\n",
    "sys.path.append('../scripts/')\n",
    "sys.path.append('scripts/')\n",
    "from helpers import load_config"
   ]
  },
  {
   "cell_type": "code",
   "execution_count": null,
   "id": "94e448c7",
   "metadata": {},
   "outputs": [],
   "source": [
    "# # Experiments with mock snakemake\n",
    "# notebook_dir = Path.cwd()\n",
    "\n",
    "# if \"snakemake\" not in globals():\n",
    "#     from helpers import mock_snakemake\n",
    "\n",
    "#     os.chdir(os.path.dirname(os.path.abspath(notebook_dir)))\n",
    "#     snakemake = mock_snakemake(\"plot_export\")"
   ]
  },
  {
   "cell_type": "code",
   "execution_count": null,
   "metadata": {},
   "outputs": [],
   "source": [
    "PREFIX = \"/mnt/c/Users/scl38887/Documents/git/pypsa-nz/\"\n",
    "OUTPUT = PREFIX + \"results/figures/modelenergy/\"\n",
    "tech_colors = PREFIX + \"config/tech_colors.yaml\""
   ]
  },
  {
   "cell_type": "code",
   "execution_count": null,
   "metadata": {},
   "outputs": [],
   "source": [
    "if not os.path.exists(OUTPUT):\n",
    "    os.makedirs(OUTPUT)"
   ]
  },
  {
   "cell_type": "code",
   "execution_count": null,
   "metadata": {},
   "outputs": [],
   "source": [
    "n_eu = pypsa.Network(PREFIX + \"results/modelenergy/ammonia-de/6627cbeac8b58c2e9a5abd9bb456ab1b.nc\")"
   ]
  },
  {
   "cell_type": "code",
   "execution_count": null,
   "metadata": {},
   "outputs": [],
   "source": [
    "n_jp = pypsa.Network(PREFIX + \"results/modelenergy/ammonia-jp/149f5f53c8d1afe16494dc95b6a8021c.nc\")"
   ]
  },
  {
   "cell_type": "code",
   "execution_count": null,
   "metadata": {},
   "outputs": [],
   "source": [
    "n_us = pypsa.Network(PREFIX + \"results/modelenergy/ammonia-us/9e668c99305a4e1511d752d73db77fbb.nc\")"
   ]
  },
  {
   "cell_type": "markdown",
   "metadata": {},
   "source": [
    "## Preliminary graphs"
   ]
  },
  {
   "cell_type": "markdown",
   "metadata": {},
   "source": [
    "### Cost per unit of energy"
   ]
  },
  {
   "cell_type": "code",
   "execution_count": null,
   "metadata": {},
   "outputs": [],
   "source": [
    "cost_us = n_us.statistics.revenue() / n_us.statistics.dispatch().loc[:,\"efuel\"].values[0] * -1\n",
    "cost_jp = n_jp.statistics.revenue() / n_jp.statistics.dispatch().loc[:,\"efuel\"].values[0] * -1\n",
    "cost_eu = n_eu.statistics.revenue() / n_eu.statistics.dispatch().loc[:,\"efuel\"].values[0] * -1"
   ]
  },
  {
   "cell_type": "code",
   "execution_count": null,
   "metadata": {},
   "outputs": [],
   "source": [
    "cost_all = pd.concat([cost_us, cost_jp, cost_eu], axis=1, keys=[\"US\", \"JP\", \"EU\"])\n",
    "cost_all = cost_all.reset_index(level='component').drop(columns='component')"
   ]
  },
  {
   "cell_type": "code",
   "execution_count": null,
   "metadata": {},
   "outputs": [],
   "source": [
    "cost_all"
   ]
  },
  {
   "cell_type": "code",
   "execution_count": null,
   "metadata": {},
   "outputs": [],
   "source": [
    "fig, ax = plt.subplots(figsize=(6, 4))\n",
    "\n",
    "# Get colors from yaml defined in tech_colors\n",
    "colors = load_config(tech_colors)[\"me_colors\"]\n",
    "\n",
    "cost_all[cost_all>0].T.plot.bar(ax=ax, stacked=True, alpha=0.8, color=colors)\n",
    "\n",
    "\n",
    "#plt.xlabel(\"H2 rule\")\n",
    "plt.ylabel(\"Costs in €/MWh\")\n",
    "plt.title(f\"Cost of delivered ammonia from NZ\")\n",
    "handles, labels = ax.get_legend_handles_labels()\n",
    "ax.legend(reversed(handles), reversed(labels), loc='upper left', bbox_to_anchor=(1, 1))\n",
    "plt.xticks(rotation=0)\n",
    "\n",
    "plt.grid(axis='y', alpha=0.5) \n",
    "\n",
    "# fig.savefig(OUTPUT+f\"export_comp.pdf\", bbox_inches=\"tight\")\n",
    "fig.savefig(snakemake.output.modelenergy, bbox_inches=\"tight\")"
   ]
  }
 ],
 "metadata": {
  "kernelspec": {
   "display_name": "pypsa-earth",
   "language": "python",
   "name": "python3"
  },
  "language_info": {
   "codemirror_mode": {
    "name": "ipython",
    "version": 3
   },
   "file_extension": ".py",
   "mimetype": "text/x-python",
   "name": "python",
   "nbconvert_exporter": "python",
   "pygments_lexer": "ipython3",
   "version": "3.10.12"
  }
 },
 "nbformat": 4,
 "nbformat_minor": 5
}
