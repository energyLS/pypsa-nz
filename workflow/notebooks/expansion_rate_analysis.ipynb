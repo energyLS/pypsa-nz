{
 "cells": [
  {
   "cell_type": "code",
   "execution_count": 44,
   "metadata": {},
   "outputs": [],
   "source": [
    "import pypsa\n",
    "import numpy as np\n",
    "import pandas as pd"
   ]
  },
  {
   "cell_type": "markdown",
   "metadata": {},
   "source": [
    "### Read network"
   ]
  },
  {
   "cell_type": "code",
   "execution_count": 45,
   "metadata": {},
   "outputs": [
    {
     "name": "stderr",
     "output_type": "stream",
     "text": [
      "WARNING:pypsa.io:Importing network from PyPSA version v0.24.0 while current version is v0.26.2. Read the release notes at https://pypsa.readthedocs.io/en/latest/release_notes.html to prepare your network for import.\n",
      "WARNING:pypsa.io:The following Link have buses which are not defined:\n",
      "Index(['H2 pipeline NZ.15_1 -> NZ.17_1', 'H2 pipeline NZ.17_1 -> NZ.1_1',\n",
      "       'H2 pipeline NZ.1_1 -> NZ.11_1'],\n",
      "      dtype='object', name='name')\n",
      "WARNING:pypsa.io:The following Link have buses which are not defined:\n",
      "Index(['H2 pipeline NZ.15_1 -> NZ.17_1', 'H2 pipeline NZ.17_1 -> NZ.1_1',\n",
      "       'H2 pipeline NZ.1_1 -> NZ.11_1'],\n",
      "      dtype='object', name='name')\n",
      "INFO:pypsa.io:Imported network elec_s_10_ec_lc3.0_Co2L_3H_2035_0.071_AB_0export.nc has buses, carriers, generators, global_constraints, lines, links, loads, storage_units, stores\n"
     ]
    }
   ],
   "source": [
    "export_level = 0\n",
    "n=pypsa.Network(f\"../../results/nz_2035_exp/postnetworks/elec_s_10_ec_lc3.0_Co2L_3H_2035_0.071_AB_{export_level}export.nc\")"
   ]
  },
  {
   "cell_type": "markdown",
   "metadata": {},
   "source": [
    "### Expansion rate post-solving"
   ]
  },
  {
   "cell_type": "code",
   "execution_count": 46,
   "metadata": {},
   "outputs": [],
   "source": [
    "exp_abs = n.statistics.expanded_capacity(comps=[\"Generator\"])\n",
    "exp_abs_dispatch = n.statistics.dispatch(comps=[\"Generator\"])"
   ]
  },
  {
   "cell_type": "code",
   "execution_count": 47,
   "metadata": {},
   "outputs": [],
   "source": [
    "current_year = 2024\n",
    "target_year = 2035\n",
    "edemand = 44.52 # TWh"
   ]
  },
  {
   "cell_type": "code",
   "execution_count": 48,
   "metadata": {},
   "outputs": [],
   "source": [
    "exp_rel = pd.DataFrame(index=[\"Solar\", \"Onshore Wind\", \"Offshore Wind (AC)\", \"Offshore Wind (DC)\"], columns=[\"capacity GW/a\", \"dispatch TWh/a\"])"
   ]
  },
  {
   "cell_type": "code",
   "execution_count": 49,
   "metadata": {},
   "outputs": [],
   "source": [
    "for tech in exp_rel.index:\n",
    "    exp_rel.loc[tech, \"capacity GW/a\"] = exp_abs.loc[\"Generator\"].loc[tech] / 1e3 # GW per year\n",
    "    exp_rel.loc[tech, \"dispatch TWh/a\"] = exp_abs_dispatch.loc[\"Generator\"].loc[tech] /  1e6 # TWh per year\n",
    "exp_rel = exp_rel / (target_year - current_year) # Annual change"
   ]
  },
  {
   "cell_type": "code",
   "execution_count": 50,
   "metadata": {},
   "outputs": [],
   "source": [
    "exp_rel[\"Annual change %\"] = exp_rel[\"dispatch TWh/a\"] / edemand * 100"
   ]
  },
  {
   "cell_type": "code",
   "execution_count": 51,
   "metadata": {},
   "outputs": [
    {
     "data": {
      "text/html": [
       "<div>\n",
       "<style scoped>\n",
       "    .dataframe tbody tr th:only-of-type {\n",
       "        vertical-align: middle;\n",
       "    }\n",
       "\n",
       "    .dataframe tbody tr th {\n",
       "        vertical-align: top;\n",
       "    }\n",
       "\n",
       "    .dataframe thead th {\n",
       "        text-align: right;\n",
       "    }\n",
       "</style>\n",
       "<table border=\"1\" class=\"dataframe\">\n",
       "  <thead>\n",
       "    <tr style=\"text-align: right;\">\n",
       "      <th></th>\n",
       "      <th>capacity GW/a</th>\n",
       "      <th>dispatch TWh/a</th>\n",
       "      <th>Annual change %</th>\n",
       "    </tr>\n",
       "  </thead>\n",
       "  <tbody>\n",
       "    <tr>\n",
       "      <th>Solar</th>\n",
       "      <td>0.940509</td>\n",
       "      <td>1.205701</td>\n",
       "      <td>2.708223</td>\n",
       "    </tr>\n",
       "    <tr>\n",
       "      <th>Onshore Wind</th>\n",
       "      <td>0.244342</td>\n",
       "      <td>0.868443</td>\n",
       "      <td>1.950681</td>\n",
       "    </tr>\n",
       "    <tr>\n",
       "      <th>Offshore Wind (AC)</th>\n",
       "      <td>0.0</td>\n",
       "      <td>0.0</td>\n",
       "      <td>0.0</td>\n",
       "    </tr>\n",
       "    <tr>\n",
       "      <th>Offshore Wind (DC)</th>\n",
       "      <td>0.0</td>\n",
       "      <td>0.0</td>\n",
       "      <td>0.0</td>\n",
       "    </tr>\n",
       "  </tbody>\n",
       "</table>\n",
       "</div>"
      ],
      "text/plain": [
       "                   capacity GW/a dispatch TWh/a Annual change %\n",
       "Solar                   0.940509       1.205701        2.708223\n",
       "Onshore Wind            0.244342       0.868443        1.950681\n",
       "Offshore Wind (AC)           0.0            0.0             0.0\n",
       "Offshore Wind (DC)           0.0            0.0             0.0"
      ]
     },
     "execution_count": 51,
     "metadata": {},
     "output_type": "execute_result"
    }
   ],
   "source": [
    "exp_rel"
   ]
  }
 ],
 "metadata": {
  "kernelspec": {
   "display_name": "pypsa-earth",
   "language": "python",
   "name": "python3"
  },
  "language_info": {
   "codemirror_mode": {
    "name": "ipython",
    "version": 3
   },
   "file_extension": ".py",
   "mimetype": "text/x-python",
   "name": "python",
   "nbconvert_exporter": "python",
   "pygments_lexer": "ipython3",
   "version": "3.10.12"
  }
 },
 "nbformat": 4,
 "nbformat_minor": 2
}
