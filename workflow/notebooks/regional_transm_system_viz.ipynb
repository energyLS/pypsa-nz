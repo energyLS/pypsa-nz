{
 "cells": [
  {
   "attachments": {},
   "cell_type": "markdown",
   "id": "b5b48cd0-a978-4d98-bef0-af7292123973",
   "metadata": {},
   "source": [
    "# PyPSA-Eur style power system plot"
   ]
  },
  {
   "attachments": {},
   "cell_type": "markdown",
   "id": "178e6cf8-d119-4f7a-8ce6-d3679474e9b7",
   "metadata": {},
   "source": [
    "## Authored by F.Hofmann\n",
    "\n",
    "The notebook reproduces the plot like a beautiful scheme of the\n",
    "European Transmission System published in https://arxiv.org/abs/1806.01613."
   ]
  },
  {
   "cell_type": "code",
   "execution_count": null,
   "id": "80bdecb2-fa99-46b4-96ed-fd8cb22683ea",
   "metadata": {},
   "outputs": [],
   "source": [
    "#\"\"\"\n",
    "#Created on Mon Sep 19 15:51:31 2022\n",
    "#\n",
    "#@author: fabian\n",
    "#\"\"\""
   ]
  },
  {
   "cell_type": "code",
   "execution_count": null,
   "id": "b6017ad8-476e-4307-b084-bc0f4ce1bb13",
   "metadata": {},
   "outputs": [],
   "source": [
    "import pypsa\n",
    "import matplotlib.pyplot as plt\n",
    "import geopandas as gpd\n",
    "import numpy as np\n",
    "import pandas as pd\n",
    "from pathlib import Path\n",
    "import seaborn as sns\n",
    "from datetime import datetime\n",
    "from cartopy import crs as ccrs\n",
    "from pypsa.plot import add_legend_circles, add_legend_lines, add_legend_patches"
   ]
  },
  {
   "attachments": {},
   "cell_type": "markdown",
   "id": "edfaec76-0f01-4a7c-a882-c8acd9dc7e40",
   "metadata": {},
   "source": [
    "Two files are needed:\n",
    "* PyPSA network file (e.g. \"elec.nc\" contains a lot of details and looks perfect)\n",
    "* a country shape file (may by found in \"resources/shapes/country_shapes.geojson\")"
   ]
  },
  {
   "cell_type": "code",
   "execution_count": null,
   "id": "c2932ea6-96b0-4ddb-a05b-6ed531d40964",
   "metadata": {},
   "outputs": [],
   "source": [
    "scenario_name = \"\"  # scenario name, default value is \"\" for tutorial or default configuration\n",
    "                    # value shall be non null if a scenario name is specified under the \"run\" tag in the config file\n",
    "\n",
    "scenario_subpath = scenario_name + \"/\" if scenario_name else \"\"\n",
    "\n",
    "\n",
    "n=pypsa.Network(\"../../results/networks/elec.nc\")\n",
    "regions_onshore = gpd.read_file(\"../../results/shapes/country_shapes.geojson\")"
   ]
  },
  {
   "attachments": {},
   "cell_type": "markdown",
   "id": "4ab560ce-d669-4959-a71d-37dc7608f05c",
   "metadata": {},
   "source": [
    "Define plot parameters:"
   ]
  },
  {
   "cell_type": "code",
   "execution_count": null,
   "id": "f2c36aad-9a67-4aa8-bb81-41c6e4748669",
   "metadata": {},
   "outputs": [],
   "source": [
    "bus_scale = 2e2\n",
    "line_scale = 8e2"
   ]
  },
  {
   "cell_type": "code",
   "execution_count": null,
   "id": "4559dd89-aea3-42ac-9fc1-2fe7c81035b6",
   "metadata": {},
   "outputs": [],
   "source": [
    "fig, ax = plt.subplots(figsize=(8, 8), subplot_kw={\"projection\": ccrs.EqualEarth(n.buses.x.mean())})\n",
    "gen = n.generators.groupby([\"bus\", \"carrier\"]).p_nom.sum()\n",
    "sto = n.storage_units.groupby([\"bus\", \"carrier\"]).p_nom.sum()\n",
    "buses = pd.concat([gen, sto])\n",
    "\n",
    "with plt.rc_context({\"patch.linewidth\": 0.}):\n",
    "    n.plot(\n",
    "        bus_sizes=buses / bus_scale,\n",
    "        bus_alpha=0.7,\n",
    "        line_widths=n.lines.s_nom / line_scale,\n",
    "        link_widths=n.links.p_nom / line_scale,\n",
    "        line_colors=\"teal\",\n",
    "        ax=ax,\n",
    "        margin=0.2,\n",
    "        color_geomap=None,\n",
    "    )\n",
    "regions_onshore.plot(\n",
    "    ax=ax,\n",
    "    facecolor=\"whitesmoke\",\n",
    "    edgecolor=\"white\",\n",
    "    aspect=\"equal\",\n",
    "    transform=ccrs.PlateCarree(),\n",
    "    linewidth=0,\n",
    ")\n",
    "#ax.set_extent(regions_onshore.total_bounds[[0, 2, 1, 3]])\n",
    "legend_kwargs = {\"loc\": \"upper left\", \"frameon\": False}\n",
    "# circles legend may requite some fine-tuning\n",
    "legend_circles_dict = {\"bbox_to_anchor\": (1, 0.6), \"labelspacing\": 2.5, **legend_kwargs}\n",
    "bus_sizes = [100, 1e3]  # in MW\n",
    "line_sizes = [500, 2000]  # in MW\n",
    "add_legend_circles(\n",
    "    ax,\n",
    "    [s / bus_scale for s in bus_sizes],\n",
    "    [f\"{s / 1000} GW\" for s in bus_sizes],\n",
    "    legend_kw=legend_circles_dict,    \n",
    ")\n",
    "add_legend_lines(\n",
    "    ax,\n",
    "    [s / line_scale for s in line_sizes],\n",
    "    [f\"{s / 1000} GW\" for s in line_sizes],\n",
    "    legend_kw={\"bbox_to_anchor\": (1, 0.8), **legend_kwargs},\n",
    ")\n",
    "add_legend_patches(\n",
    "    ax,\n",
    "    n.carriers.color,\n",
    "    n.carriers.nice_name,\n",
    "    legend_kw={\"bbox_to_anchor\": (1, 0), **legend_kwargs, \"loc\":\"lower left\"},\n",
    ")\n",
    "fig.tight_layout()\n",
    "fig.savefig(\"../../results/figures/brownfield_capacities_\" + scenario_name + \".png\", bbox_inches=\"tight\", dpi=300)\n",
    "fig.savefig(\"../../results/figures/brownfield_capacities_\" + scenario_name + \".pdf\", bbox_inches=\"tight\", dpi=300)"
   ]
  }
 ],
 "metadata": {
  "kernelspec": {
   "display_name": "Python 3 (ipykernel)",
   "language": "python",
   "name": "python3"
  },
  "language_info": {
   "codemirror_mode": {
    "name": "ipython",
    "version": 3
   },
   "file_extension": ".py",
   "mimetype": "text/x-python",
   "name": "python",
   "nbconvert_exporter": "python",
   "pygments_lexer": "ipython3",
   "version": "3.10.12"
  }
 },
 "nbformat": 4,
 "nbformat_minor": 5
}
