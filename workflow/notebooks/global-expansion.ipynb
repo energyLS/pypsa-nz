{
 "cells": [
  {
   "cell_type": "code",
   "execution_count": null,
   "metadata": {},
   "outputs": [],
   "source": [
    "import pandas as pd\n",
    "import matplotlib"
   ]
  },
  {
   "cell_type": "markdown",
   "metadata": {},
   "source": [
    "### Get shares"
   ]
  },
  {
   "cell_type": "code",
   "execution_count": null,
   "metadata": {},
   "outputs": [],
   "source": [
    "reshare = pd.read_csv('../../data/owid/share-of-electricity-production-from-renewable-sources.csv')"
   ]
  },
  {
   "cell_type": "code",
   "execution_count": null,
   "metadata": {},
   "outputs": [],
   "source": [
    "reshare.head()"
   ]
  },
  {
   "cell_type": "code",
   "execution_count": null,
   "metadata": {},
   "outputs": [],
   "source": [
    "reshare = reshare[reshare.Year == 2022]\n",
    "reshare = reshare.dropna(subset=['Code'])\n",
    "reshare = reshare.rename(columns={'Renewables - % electricity': 'reshare'})"
   ]
  },
  {
   "cell_type": "markdown",
   "metadata": {},
   "source": [
    "### Get total demand"
   ]
  },
  {
   "cell_type": "code",
   "execution_count": null,
   "metadata": {},
   "outputs": [],
   "source": [
    "edemand = pd.read_csv('../../data/owid/electricity-demand.csv')"
   ]
  },
  {
   "cell_type": "code",
   "execution_count": null,
   "metadata": {},
   "outputs": [],
   "source": [
    "edemand.head()"
   ]
  },
  {
   "cell_type": "code",
   "execution_count": null,
   "metadata": {},
   "outputs": [],
   "source": [
    "edemand = edemand[edemand.Year == 2022]\n",
    "# Drop rows where Code is NaN\n",
    "edemand = edemand.dropna(subset=['Code'])\n",
    "edemand = edemand.rename(columns={'Electricity demand - TWh': 'edemand'})"
   ]
  },
  {
   "cell_type": "markdown",
   "metadata": {},
   "source": [
    "### Merge electricity demand and shares on \"Code\""
   ]
  },
  {
   "cell_type": "code",
   "execution_count": null,
   "metadata": {},
   "outputs": [],
   "source": [
    "merge = pd.merge(reshare, edemand, on='Code')"
   ]
  },
  {
   "cell_type": "code",
   "execution_count": null,
   "metadata": {},
   "outputs": [],
   "source": [
    "merge.head()"
   ]
  },
  {
   "cell_type": "code",
   "execution_count": null,
   "metadata": {},
   "outputs": [],
   "source": [
    "merge = merge[[\"Code\", \"reshare\", \"edemand\"]]"
   ]
  },
  {
   "cell_type": "code",
   "execution_count": null,
   "metadata": {},
   "outputs": [],
   "source": [
    "# Drop row where code is \"OWID_WRL\"\n",
    "#merge = merge[merge.Code != \"OWID_WRL\"]"
   ]
  },
  {
   "cell_type": "code",
   "execution_count": null,
   "metadata": {},
   "outputs": [],
   "source": [
    "import matplotlib.pyplot as plt\n",
    "\n",
    "# Extracting countries, x values, and y values\n",
    "countries = list(merge.Code)\n",
    "x_values = merge.edemand\n",
    "y_values = merge.reshare\n",
    "\n",
    "# Creating the plot\n",
    "plt.figure(figsize=(10, 6))\n",
    "plt.scatter(x_values, y_values)\n",
    "\n",
    "# Adding country labels to the points\n",
    "for i, country in enumerate(countries):\n",
    "    plt.text(x_values[i], y_values[i], country)\n",
    "\n",
    "# Add a vertical line at 90% and label it \"90% threshold\"\n",
    "plt.axhline(y=90, color='r', linestyle='--')\n",
    "plt.text(5e3, 91, '90% threshold', color='red')\n",
    "\n",
    "# Labeling the axes\n",
    "plt.xlabel('Electricity demand in TWh')\n",
    "plt.ylabel('Share of RE in electricity production (%)')\n",
    "\n",
    "# Adding a title\n",
    "# plt.title('Countries X-Y Plot')\n",
    "\n",
    "plt.xscale('log')\n",
    "\n",
    "# Showing the plot\n",
    "plt.grid(True)\n",
    "plt.show()\n"
   ]
  },
  {
   "cell_type": "markdown",
   "metadata": {},
   "source": [
    "### Determine amount of electricity for export under certain rule"
   ]
  },
  {
   "cell_type": "code",
   "execution_count": null,
   "metadata": {},
   "outputs": [],
   "source": [
    "# export\n",
    "rule = 90\n",
    "ely_eff = 0.62\n",
    "re_share = merge.reshare\n",
    "gen_total = merge.edemand\n",
    "\n",
    "def get_export(rule):\n",
    "    export_el = ((re_share-rule)/100 * gen_total)\n",
    "    export = export_el * ely_eff\n",
    "\n",
    "    merge['export'] = export\n",
    "    merge[\"export\"] = merge[\"export\"].clip(lower=0)\n",
    "\n",
    "    return merge\n",
    "\n",
    "merge = get_export(rule)"
   ]
  },
  {
   "cell_type": "code",
   "execution_count": null,
   "metadata": {},
   "outputs": [],
   "source": [
    "# Sort by export\n",
    "merge = merge.sort_values(by='export', ascending=False)"
   ]
  },
  {
   "cell_type": "code",
   "execution_count": null,
   "metadata": {},
   "outputs": [],
   "source": [
    "merge.export.sum()"
   ]
  },
  {
   "cell_type": "code",
   "execution_count": null,
   "metadata": {},
   "outputs": [],
   "source": [
    "# Get the sum of export depending on the rule\n",
    "\n",
    "export_sum = []\n",
    "rule_range = range(50, 100, 1)\n",
    "for rule in rule_range:\n",
    "    merge = get_export(rule)\n",
    "    export_sum.append(merge.export.sum())"
   ]
  },
  {
   "cell_type": "code",
   "execution_count": null,
   "metadata": {},
   "outputs": [],
   "source": [
    "export_sum_df = pd.DataFrame({'rule': rule_range, 'export_sum': export_sum})\n",
    "export_sum_df.plot(x='rule', y='export_sum', kind='line')"
   ]
  },
  {
   "cell_type": "code",
   "execution_count": null,
   "metadata": {},
   "outputs": [],
   "source": [
    "merge.head(20)"
   ]
  }
 ],
 "metadata": {
  "kernelspec": {
   "display_name": "pypsa-earth",
   "language": "python",
   "name": "python3"
  },
  "language_info": {
   "codemirror_mode": {
    "name": "ipython",
    "version": 3
   },
   "file_extension": ".py",
   "mimetype": "text/x-python",
   "name": "python",
   "nbconvert_exporter": "python",
   "pygments_lexer": "ipython3",
   "version": "3.10.12"
  }
 },
 "nbformat": 4,
 "nbformat_minor": 2
}
