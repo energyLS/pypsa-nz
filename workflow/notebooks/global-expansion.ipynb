{
 "cells": [
  {
   "cell_type": "code",
   "execution_count": null,
   "metadata": {},
   "outputs": [],
   "source": [
    "import pandas as pd\n",
    "import matplotlib"
   ]
  },
  {
   "cell_type": "markdown",
   "metadata": {},
   "source": [
    "### Get shares"
   ]
  },
  {
   "cell_type": "code",
   "execution_count": null,
   "metadata": {},
   "outputs": [],
   "source": [
    "reshare = pd.read_csv('../../data/owid/share-of-electricity-production-from-renewable-sources.csv')"
   ]
  },
  {
   "cell_type": "code",
   "execution_count": null,
   "metadata": {},
   "outputs": [],
   "source": [
    "reshare.head()"
   ]
  },
  {
   "cell_type": "code",
   "execution_count": null,
   "metadata": {},
   "outputs": [],
   "source": [
    "reshare = reshare[reshare.Year == 2022]\n",
    "reshare = reshare.dropna(subset=['Code'])\n",
    "reshare = reshare.rename(columns={'Renewables - % electricity': 'reshare'})"
   ]
  },
  {
   "cell_type": "markdown",
   "metadata": {},
   "source": [
    "### Get total demand"
   ]
  },
  {
   "cell_type": "code",
   "execution_count": null,
   "metadata": {},
   "outputs": [],
   "source": [
    "edemand = pd.read_csv('../../data/owid/electricity-demand.csv')"
   ]
  },
  {
   "cell_type": "code",
   "execution_count": null,
   "metadata": {},
   "outputs": [],
   "source": [
    "edemand.head()"
   ]
  },
  {
   "cell_type": "code",
   "execution_count": null,
   "metadata": {},
   "outputs": [],
   "source": [
    "edemand = edemand[edemand.Year == 2022]\n",
    "# Drop rows where Code is NaN\n",
    "edemand = edemand.dropna(subset=['Code'])\n",
    "edemand = edemand.rename(columns={'Electricity demand - TWh': 'edemand'})"
   ]
  },
  {
   "cell_type": "markdown",
   "metadata": {},
   "source": [
    "### Merge electricity demand and shares on \"Code\""
   ]
  },
  {
   "cell_type": "code",
   "execution_count": null,
   "metadata": {},
   "outputs": [],
   "source": [
    "merge = pd.merge(reshare, edemand, on='Code')"
   ]
  },
  {
   "cell_type": "code",
   "execution_count": null,
   "metadata": {},
   "outputs": [],
   "source": [
    "merge.head()"
   ]
  },
  {
   "cell_type": "code",
   "execution_count": null,
   "metadata": {},
   "outputs": [],
   "source": [
    "merge[[\"Code\", \"reshare\", \"edemand\"]]"
   ]
  },
  {
   "cell_type": "code",
   "execution_count": null,
   "metadata": {},
   "outputs": [],
   "source": [
    "# Drop row where code is \"OWID_WRL\"\n",
    "#merge = merge[merge.Code != \"OWID_WRL\"]"
   ]
  },
  {
   "cell_type": "code",
   "execution_count": null,
   "metadata": {},
   "outputs": [],
   "source": [
    "import matplotlib.pyplot as plt\n",
    "\n",
    "# Extracting countries, x values, and y values\n",
    "countries = list(merge.Code)\n",
    "x_values = merge.edemand\n",
    "y_values = merge.reshare\n",
    "\n",
    "# Creating the plot\n",
    "plt.figure(figsize=(10, 6))\n",
    "plt.scatter(x_values, y_values)\n",
    "\n",
    "# Adding country labels to the points\n",
    "for i, country in enumerate(countries):\n",
    "    plt.text(x_values[i], y_values[i], country)\n",
    "\n",
    "# Add a vertical line at 90% and label it \"90% threshold\"\n",
    "plt.axhline(y=90, color='r', linestyle='--')\n",
    "plt.text(5e3, 91, '90% threshold', color='red')\n",
    "\n",
    "# Labeling the axes\n",
    "plt.xlabel('Electricity demand in TWh')\n",
    "plt.ylabel('Share of RE in electricity production (%)')\n",
    "\n",
    "# Adding a title\n",
    "# plt.title('Countries X-Y Plot')\n",
    "\n",
    "plt.xscale('log')\n",
    "\n",
    "# Showing the plot\n",
    "plt.grid(True)\n",
    "plt.show()\n"
   ]
  }
 ],
 "metadata": {
  "kernelspec": {
   "display_name": "pypsa-earth",
   "language": "python",
   "name": "python3"
  },
  "language_info": {
   "codemirror_mode": {
    "name": "ipython",
    "version": 3
   },
   "file_extension": ".py",
   "mimetype": "text/x-python",
   "name": "python",
   "nbconvert_exporter": "python",
   "pygments_lexer": "ipython3",
   "version": "3.10.12"
  }
 },
 "nbformat": 4,
 "nbformat_minor": 2
}
