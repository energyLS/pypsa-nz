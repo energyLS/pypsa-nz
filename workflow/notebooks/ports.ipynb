{
 "cells": [
  {
   "cell_type": "code",
   "execution_count": null,
   "metadata": {},
   "outputs": [],
   "source": [
    "import pypsa\n",
    "import matplotlib.pyplot as plt\n",
    "import geopandas as gpd\n",
    "import numpy as np\n",
    "import pandas as pd\n",
    "from pathlib import Path\n",
    "import seaborn as sns\n",
    "from datetime import datetime\n",
    "from cartopy import crs as ccrs\n",
    "from pypsa.plot import add_legend_circles, add_legend_lines, add_legend_patches\n",
    "import plotly.express as px\n",
    "import hvplot.pandas\n",
    "import matplotlib.colors as mcolors"
   ]
  },
  {
   "cell_type": "code",
   "execution_count": null,
   "metadata": {},
   "outputs": [],
   "source": [
    "country = \"NZ\""
   ]
  },
  {
   "cell_type": "code",
   "execution_count": null,
   "metadata": {},
   "outputs": [],
   "source": [
    "# Read ports geodata from csv file with geopandas and use x and y coordinates to plot\n",
    "fn=\"../../resources/pypsa-earth-sec/data/ports.csv\"\n",
    "fn_export=\"../../resources/pypsa-earth-sec/data/export_ports.csv\"\n",
    "OUTPUT = \"../../results/figures/ports_exportports.pdf\""
   ]
  },
  {
   "cell_type": "code",
   "execution_count": null,
   "metadata": {},
   "outputs": [],
   "source": [
    "export_ports = pd.read_csv(fn_export)\n",
    "geometry = gpd.points_from_xy(export_ports.x, export_ports.y)\n",
    "export_ports = gpd.GeoDataFrame(export_ports, geometry=geometry)\n",
    "\n",
    "export_ports = export_ports[export_ports['country'] == country]\n",
    "\n",
    "# Set crs to WGS84\n",
    "export_ports = export_ports.set_crs(epsg=4326)\n",
    "\n",
    "# Convert fraction to float\n",
    "export_ports['fraction'] = export_ports['fraction'].astype(float)"
   ]
  },
  {
   "cell_type": "code",
   "execution_count": null,
   "metadata": {},
   "outputs": [],
   "source": [
    "ports = gpd.read_file(fn)\n",
    "geometry = gpd.points_from_xy(ports.x, ports.y)\n",
    "ports = gpd.GeoDataFrame(ports, geometry=geometry)\n",
    "\n",
    "# Filter ports to only include a country \n",
    "ports = ports[ports['country'] == country]\n",
    "\n",
    "# Set crs to WGS84\n",
    "ports = ports.set_crs(epsg=4326)\n",
    "\n",
    "# Convert fraction to float\n",
    "ports['fraction'] = ports['fraction'].astype(float)\n"
   ]
  },
  {
   "cell_type": "markdown",
   "metadata": {},
   "source": [
    "### Static plot"
   ]
  },
  {
   "cell_type": "code",
   "execution_count": null,
   "metadata": {},
   "outputs": [],
   "source": [
    "regions_onshore = gpd.read_file(\"../../results/shapes/country_shapes.geojson\")\n",
    "n=pypsa.Network(\"../../results/networks/elec.nc\")"
   ]
  },
  {
   "cell_type": "code",
   "execution_count": null,
   "metadata": {},
   "outputs": [],
   "source": [
    "capacity_scale = 5e-3\n",
    "extent = [165.0, 180.0, -48.0, -33.0] # for country NZ [165.0, 180.0, -50.0, -25.0] "
   ]
  },
  {
   "cell_type": "code",
   "execution_count": null,
   "metadata": {},
   "outputs": [],
   "source": [
    "fig, ax = plt.subplots(figsize=(8, 8), subplot_kw={\"projection\": ccrs.PlateCarree(), \"frameon\": False})\n",
    "\n",
    "regions_onshore.plot(\n",
    "    ax=ax,\n",
    "    facecolor=\"whitesmoke\",\n",
    "    edgecolor=\"black\",\n",
    "    aspect=\"equal\",\n",
    "    transform=ccrs.PlateCarree(),\n",
    "    linewidth=0.2,\n",
    ")\n",
    "\n",
    "ports.plot(\n",
    "    ax=ax,\n",
    "    markersize= ports[\"Harbor_size_nr\"].values.astype(float) / capacity_scale,\n",
    "    alpha=0.7,\n",
    "    legend=True,\n",
    "    legend_kwds=dict(frameon=True, facecolor=\"white\", loc=\"lower right\"), #title=\"Technology (size ~ capacity)\", \n",
    "    transform=ccrs.PlateCarree()\n",
    ")\n",
    "\n",
    "export_ports.plot(\n",
    "    ax=ax,\n",
    "    markersize= ports[\"Harbor_size_nr\"].values.astype(float) / capacity_scale,\n",
    "    alpha=0.7,\n",
    "    legend=True,\n",
    "    color=\"yellow\",\n",
    "    legend_kwds=dict(frameon=True, facecolor=\"white\", loc=\"lower right\"), #title=\"Technology (size ~ capacity)\", \n",
    "    transform=ccrs.PlateCarree()\n",
    ")\n",
    "\n",
    "\n",
    "ax.set_extent(extent)\n",
    "fig.tight_layout()\n",
    "fig.savefig(OUTPUT, bbox_inches=\"tight\", dpi=300)"
   ]
  },
  {
   "cell_type": "markdown",
   "metadata": {},
   "source": [
    "### Interactive"
   ]
  },
  {
   "cell_type": "code",
   "execution_count": null,
   "metadata": {},
   "outputs": [],
   "source": [
    "# Create a scatter map with Mapbox as the basemap\n",
    "fig = px.scatter_mapbox(ports, \n",
    "        lat=ports.geometry.y, \n",
    "        lon=ports.geometry.x, \n",
    "        mapbox_style=\"carto-positron\",\n",
    "        zoom=5, \n",
    "        center=dict(lat=31.7917, lon=-7.0926), \n",
    "        height=600, \n",
    "        width=800,\n",
    "        size='fraction',\n",
    "        hover_name='name',\n",
    "        )\n",
    "fig.show()\n",
    "\n",
    "# Save the figure\n",
    "#fig.to_image(format=\"png\", engine=\"orca\")"
   ]
  }
 ],
 "metadata": {
  "kernelspec": {
   "display_name": "pypsa-earth",
   "language": "python",
   "name": "python3"
  },
  "language_info": {
   "codemirror_mode": {
    "name": "ipython",
    "version": 3
   },
   "file_extension": ".py",
   "mimetype": "text/x-python",
   "name": "python",
   "nbconvert_exporter": "python",
   "pygments_lexer": "ipython3",
   "version": "3.10.12"
  },
  "orig_nbformat": 4
 },
 "nbformat": 4,
 "nbformat_minor": 2
}
