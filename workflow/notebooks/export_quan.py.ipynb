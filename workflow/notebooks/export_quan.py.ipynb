{
 "cells": [
  {
   "cell_type": "code",
   "execution_count": 6,
   "metadata": {},
   "outputs": [],
   "source": [
    "import pandas as pd\n",
    "import numpy as np\n",
    "import matplotlib.pyplot as plt"
   ]
  },
  {
   "cell_type": "markdown",
   "id": "f470ca7f",
   "metadata": {},
   "source": [
    "### Paths"
   ]
  },
  {
   "cell_type": "code",
   "execution_count": 16,
   "id": "d76621c1",
   "metadata": {},
   "outputs": [],
   "source": [
    "\n",
    "reshare_fn = '../../data/owid/share-of-electricity-production-from-renewable-sources.csv'"
   ]
  },
  {
   "cell_type": "code",
   "execution_count": 15,
   "id": "76d0d123",
   "metadata": {},
   "outputs": [
    {
     "ename": "NameError",
     "evalue": "name 'snakemake' is not defined",
     "output_type": "error",
     "traceback": [
      "\u001b[0;31m---------------------------------------------------------------------------\u001b[0m",
      "\u001b[0;31mNameError\u001b[0m                                 Traceback (most recent call last)",
      "Cell \u001b[0;32mIn[15], line 2\u001b[0m\n\u001b[1;32m      1\u001b[0m \u001b[38;5;66;03m# nz_goals_fn = '../../data/nz_goals/nz_goals.csv'\u001b[39;00m\n\u001b[0;32m----> 2\u001b[0m nz_goals_fn \u001b[38;5;241m=\u001b[39m \u001b[43msnakemake\u001b[49m\u001b[38;5;241m.\u001b[39minput\u001b[38;5;241m.\u001b[39mnz_goals\n\u001b[1;32m      4\u001b[0m \u001b[38;5;66;03m#edemand_fn = \"../../data/owid/electricity-demand.csv\"\u001b[39;00m\n\u001b[1;32m      5\u001b[0m edemand_fn \u001b[38;5;241m=\u001b[39m snakemake\u001b[38;5;241m.\u001b[39minput\u001b[38;5;241m.\u001b[39medemand\n",
      "\u001b[0;31mNameError\u001b[0m: name 'snakemake' is not defined"
     ]
    }
   ],
   "source": [
    "# nz_goals_fn = '../../data/nz_goals/nz_goals.csv'\n",
    "nz_goals_fn = snakemake.input.nz_goals\n",
    "\n",
    "#edemand_fn = \"../../data/owid/electricity-demand.csv\"\n",
    "edemand_fn = snakemake.input.edemand\n",
    "\n",
    "# reshare_fn = '../../data/owid/share-of-electricity-production-from-renewable-sources.csv'\n",
    "reshare_fn = snakemake.input.reshares"
   ]
  },
  {
   "cell_type": "markdown",
   "id": "d81f5a32",
   "metadata": {},
   "source": [
    "### Functions to read and prepare demand data"
   ]
  },
  {
   "cell_type": "code",
   "execution_count": 8,
   "id": "79de61e9",
   "metadata": {},
   "outputs": [],
   "source": [
    "def get_latest_demand(demand_path):\n",
    "\n",
    "    edemand = pd.read_csv(edemand_fn)\n",
    "\n",
    "    edemand = edemand[edemand.Code == country]\n",
    "    # Drop rows where Code is NaN\n",
    "    edemand = edemand.dropna(subset=['Code'])\n",
    "    edemand = edemand.rename(columns={'Electricity demand - TWh': 'edemand'})\n",
    "\n",
    "    # Select latest year and get electricity demand\n",
    "    edemand = edemand[edemand.Year == edemand.Year.max()].edemand.values[0]\n",
    "\n",
    "    print(f\"The latest available electricity demand of country {country} is {edemand} TWh\")\n",
    "\n",
    "    return edemand"
   ]
  },
  {
   "cell_type": "code",
   "execution_count": 14,
   "id": "bb0b1dce",
   "metadata": {},
   "outputs": [],
   "source": [
    "def get_latest_reshare(reshare_path):\n",
    "\n",
    "    reshare = pd.read_csv(reshare_fn)\n",
    "\n",
    "    reshare = reshare[reshare.Code == country]\n",
    "    # Drop rows where Code is NaN\n",
    "    reshare = reshare.dropna(subset=['Code'])\n",
    "    reshare = reshare.rename(columns={'Renewables - % electricity': 'reshare'})\n",
    "\n",
    "    # Select latest year and get electricity demand\n",
    "    reshare = reshare[reshare.Year == reshare.Year.max()].reshare.values[0]\n",
    "\n",
    "    print(f\"The latest available electricity demand of country {country} is {reshare} %\")\n",
    "\n",
    "    return reshare"
   ]
  },
  {
   "cell_type": "markdown",
   "metadata": {},
   "source": [
    "### Define variables"
   ]
  },
  {
   "cell_type": "code",
   "execution_count": 9,
   "id": "6ae0dc90",
   "metadata": {},
   "outputs": [
    {
     "ename": "NameError",
     "evalue": "name 'snakemake' is not defined",
     "output_type": "error",
     "traceback": [
      "\u001b[0;31m---------------------------------------------------------------------------\u001b[0m",
      "\u001b[0;31mNameError\u001b[0m                                 Traceback (most recent call last)",
      "Cell \u001b[0;32mIn[9], line 2\u001b[0m\n\u001b[1;32m      1\u001b[0m \u001b[38;5;66;03m# sweep = \"year\" #[\"rule\", \"expansion\", \"year\"]\u001b[39;00m\n\u001b[0;32m----> 2\u001b[0m sweep \u001b[38;5;241m=\u001b[39m \u001b[43msnakemake\u001b[49m\u001b[38;5;241m.\u001b[39mparams\u001b[38;5;241m.\u001b[39msweep[\u001b[38;5;241m0\u001b[39m]\n",
      "\u001b[0;31mNameError\u001b[0m: name 'snakemake' is not defined"
     ]
    }
   ],
   "source": [
    "# sweep = \"year\" #[\"rule\", \"expansion\", \"year\"]\n",
    "sweep = snakemake.params.sweep[0]"
   ]
  },
  {
   "cell_type": "code",
   "execution_count": 10,
   "metadata": {},
   "outputs": [
    {
     "name": "stdout",
     "output_type": "stream",
     "text": [
      "The latest available electricity demand of country NZL is 44.52 TWh\n"
     ]
    }
   ],
   "source": [
    "country = \"NZL\"\n",
    "year_current = 2024\n",
    "\n",
    "re_share = get_latest_reshare(reshare_fn) #87.33 # in percent\n",
    "gen_total = get_latest_demand(edemand_fn) #44.52 # in TWh\n",
    "ely_eff = 0.62 # in percent (https://github.com/PyPSA/technology-data/blob/master/outputs/costs_2030.csv)\n",
    "\n",
    "rule = 90 # in percent\n",
    "rule_sweep = np.array([60, 70, 80, 90]) # in percent\n",
    "\n",
    "re_exp = np.array([1]) # TWh/year\n",
    "re_exp_sweep = np.array([0.1,1,2,3]) # TWh/year\n",
    "\n",
    "year_target = 2035\n",
    "year_target_sweep = np.array([2030, 2035, 2040, 2045, 2050])\n",
    "\n",
    "demand_dom_incr = np.array([0, 5, 10, 20]) # in TWh"
   ]
  },
  {
   "cell_type": "markdown",
   "metadata": {},
   "source": [
    "### Formula"
   ]
  },
  {
   "cell_type": "code",
   "execution_count": 11,
   "metadata": {},
   "outputs": [],
   "source": [
    "def get_export(sweep=\"expansion\", re_exp_sweep=re_exp_sweep, rule_sweep=rule_sweep, rule=rule, re_exp=re_exp, gen_total=gen_total, ely_eff=ely_eff, year_target=year_target, year_current=year_current, demand_dom_incr=demand_dom_incr):\n",
    "\n",
    "    if sweep == \"expansion\":\n",
    "        dim = re_exp_sweep\n",
    "        demand_dom_incr_grid, re_exp = np.meshgrid(demand_dom_incr, re_exp_sweep)\n",
    "    elif sweep == \"rule\":\n",
    "        dim = rule_sweep\n",
    "        demand_dom_incr_grid, rule = np.meshgrid(demand_dom_incr, rule_sweep)\n",
    "    elif sweep == \"year\":\n",
    "        dim = year_target_sweep\n",
    "        demand_dom_incr_grid, year_target = np.meshgrid(demand_dom_incr, year_target_sweep)\n",
    "\n",
    "    else:\n",
    "        raise ValueError(\"sweep must be one of 'expansion', 'rule', 'year'\") \n",
    "\n",
    "    export_el = ((re_share-rule)/100 * gen_total) + (re_exp * (year_target-year_current)) - demand_dom_incr_grid\n",
    "\n",
    "    export = export_el * ely_eff\n",
    "    export_df = pd.DataFrame(export, columns=demand_dom_incr, index=dim)\n",
    "    export_df.index.name = sweep\n",
    "    \n",
    "    return export_df"
   ]
  },
  {
   "cell_type": "code",
   "execution_count": 12,
   "id": "4e7c9e28",
   "metadata": {},
   "outputs": [
    {
     "ename": "NameError",
     "evalue": "name 'sweep' is not defined",
     "output_type": "error",
     "traceback": [
      "\u001b[0;31m---------------------------------------------------------------------------\u001b[0m",
      "\u001b[0;31mNameError\u001b[0m                                 Traceback (most recent call last)",
      "Cell \u001b[0;32mIn[12], line 1\u001b[0m\n\u001b[0;32m----> 1\u001b[0m export_df \u001b[38;5;241m=\u001b[39m get_export(sweep\u001b[38;5;241m=\u001b[39m\u001b[43msweep\u001b[49m)\n",
      "\u001b[0;31mNameError\u001b[0m: name 'sweep' is not defined"
     ]
    }
   ],
   "source": [
    "export_df = get_export(sweep=sweep)"
   ]
  },
  {
   "cell_type": "markdown",
   "id": "9f28dc01",
   "metadata": {},
   "source": [
    "### NZ roadmap"
   ]
  },
  {
   "cell_type": "code",
   "execution_count": 13,
   "id": "21d579da",
   "metadata": {},
   "outputs": [
    {
     "ename": "NameError",
     "evalue": "name 'nz_goals_fn' is not defined",
     "output_type": "error",
     "traceback": [
      "\u001b[0;31m---------------------------------------------------------------------------\u001b[0m",
      "\u001b[0;31mNameError\u001b[0m                                 Traceback (most recent call last)",
      "Cell \u001b[0;32mIn[13], line 1\u001b[0m\n\u001b[0;32m----> 1\u001b[0m nz_goals \u001b[38;5;241m=\u001b[39m pd\u001b[38;5;241m.\u001b[39mread_csv(\u001b[43mnz_goals_fn\u001b[49m, index_col\u001b[38;5;241m=\u001b[39m\u001b[38;5;241m0\u001b[39m) \n\u001b[1;32m      2\u001b[0m nz_goals \u001b[38;5;241m*\u001b[39m\u001b[38;5;241m=\u001b[39m \u001b[38;5;241m33.33e-6\u001b[39m\n",
      "\u001b[0;31mNameError\u001b[0m: name 'nz_goals_fn' is not defined"
     ]
    }
   ],
   "source": [
    "nz_goals = pd.read_csv(nz_goals_fn, index_col=0) \n",
    "nz_goals *= 33.33e-6 # Convert from tons to TWh hydrogen"
   ]
  },
  {
   "cell_type": "markdown",
   "metadata": {},
   "source": [
    "### Plot"
   ]
  },
  {
   "cell_type": "code",
   "execution_count": null,
   "metadata": {},
   "outputs": [],
   "source": [
    "fig = plt.figure(facecolor='white', figsize=(6, 5))\n",
    "\n",
    "ax = fig.add_subplot(1,1,1)\n",
    "alpha=1\n",
    "\n",
    "if sweep == \"expansion\":\n",
    "    for re_exp_val in np.unique(re_exp_sweep):\n",
    "        plt.plot(demand_dom_incr, export_df.loc[re_exp_val], label=f'{re_exp_val} TWh/a', color='green', alpha=alpha)\n",
    "        alpha -= 0.2\n",
    "        legend_title = 'RE expansion'\n",
    "\n",
    "elif sweep == \"rule\":\n",
    "    for rule_val in np.unique(rule_sweep):\n",
    "        plt.plot(demand_dom_incr, export_df.loc[rule_val], label=f'{rule_val}% rule', color='green', alpha=alpha)\n",
    "        alpha -= 0.2\n",
    "        legend_title = 'Rule'\n",
    "\n",
    "elif sweep == \"year\":\n",
    "    for year_val in np.unique(year_target_sweep):\n",
    "        plt.plot(demand_dom_incr, export_df.loc[year_val], label=f'{year_val}', color='green', alpha=alpha)\n",
    "        alpha -= 0.2\n",
    "        legend_title = 'Year'\n",
    "\n",
    "# Plot nz hydrogen goals (arrows)\n",
    "# plt.text(2, nz_goals.loc[2035, \"high\"], 'NZ 2035 goal', color='red', alpha=1, fontsize=8)\n",
    "# plt.arrow(2, nz_goals.loc[2035, \"high\"]+0.27, -0.5,0, head_width=1, head_length=0.5, fc='black', ec='black', alpha=0.5)\n",
    "\n",
    "# Plot nz hydrogen goals (lines)\n",
    "for year in nz_goals.index:\n",
    "    plt.axhline(y=nz_goals.loc[year, \"high\"], color='red', linestyle='--', alpha=0.5)\n",
    "    plt.text(0.4, nz_goals.loc[year, \"high\"]+0.3, f'NZ {year} export target', color='red', alpha=1, fontsize=8)\n",
    "\n",
    "plt.xlabel('Demand increase in TWh')\n",
    "plt.ylabel('Export in TWh')\n",
    "plt.ylim(0, 25)\n",
    "plt.xlim(0, 20)\n",
    "plt.grid()\n",
    "plt.legend(loc='upper right')\n",
    "# plt.legend(title=legend_title)\n",
    "\n",
    "fig.savefig(snakemake.output.exportquan, bbox_inches=\"tight\")\n",
    "\n",
    "plt.show()"
   ]
  }
 ],
 "metadata": {
  "kernelspec": {
   "display_name": "pypsa-earth",
   "language": "python",
   "name": "python3"
  },
  "language_info": {
   "codemirror_mode": {
    "name": "ipython",
    "version": 3
   },
   "file_extension": ".py",
   "mimetype": "text/x-python",
   "name": "python",
   "nbconvert_exporter": "python",
   "pygments_lexer": "ipython3",
   "version": "3.10.12"
  }
 },
 "nbformat": 4,
 "nbformat_minor": 5
}
