{
 "cells": [
  {
   "cell_type": "code",
   "execution_count": null,
   "metadata": {},
   "outputs": [],
   "source": [
    "import pandas as pd\n",
    "import numpy as np\n",
    "import matplotlib.pyplot as plt"
   ]
  },
  {
   "cell_type": "markdown",
   "metadata": {},
   "source": [
    "### Define variables"
   ]
  },
  {
   "cell_type": "code",
   "execution_count": null,
   "metadata": {},
   "outputs": [],
   "source": [
    "re_share = 97# in percent\n",
    "rule = 70 # in percent\n",
    "gen_total = 10 # in TWh\n",
    "\n",
    "ely_eff = 0.62 # in percent (https://github.com/PyPSA/technology-data/blob/master/outputs/costs_2030.csv)\n",
    "\n",
    "re_exp = np.array([0,2,4,8]) # TWh/year\n",
    "year_target = 2030\n",
    "year_current = 2024\n",
    "\n",
    "demand_dom_incr = np.array([0, 5, 10, 20]) # in TWh"
   ]
  },
  {
   "cell_type": "code",
   "execution_count": null,
   "metadata": {},
   "outputs": [],
   "source": [
    "demand_dom_incr_grid, re_exp_grid = np.meshgrid(demand_dom_incr, re_exp)"
   ]
  },
  {
   "cell_type": "markdown",
   "metadata": {},
   "source": [
    "### Formula"
   ]
  },
  {
   "cell_type": "code",
   "execution_count": null,
   "metadata": {},
   "outputs": [],
   "source": [
    "# export\n",
    "export_el = ((re_share-rule)/100 * gen_total) + (re_exp_grid * (year_target-year_current)) - demand_dom_incr_grid\n",
    "export = export_el * ely_eff\n",
    "export_df = pd.DataFrame(export, columns=demand_dom_incr, index=re_exp)\n",
    "#export_df"
   ]
  },
  {
   "cell_type": "markdown",
   "metadata": {},
   "source": [
    "### Plot"
   ]
  },
  {
   "cell_type": "code",
   "execution_count": null,
   "metadata": {},
   "outputs": [],
   "source": [
    "fig = plt.figure(facecolor='white', figsize=(7, 5))\n",
    "\n",
    "ax = fig.add_subplot(1,1,1)\n",
    "\n",
    "for re_exp_val in re_exp:\n",
    "    plt.plot(demand_dom_incr, export_df.loc[re_exp_val], label=f'{re_exp_val} TWh/a')\n",
    "\n",
    "plt.xlabel('Demand increase in TWh')\n",
    "plt.ylabel('Export in TWh')\n",
    "# plt.ylim(0, 20)\n",
    "plt.xlim(0, 20)\n",
    "plt.grid()\n",
    "plt.legend()\n",
    "#plt.title('Export vs. Demand increase')\n",
    "\n",
    "fig.savefig(snakemake.output.exportquan, bbox_inches=\"tight\")\n",
    "\n",
    "plt.show()"
   ]
  }
 ],
 "metadata": {
  "kernelspec": {
   "display_name": "pypsa-earth",
   "language": "python",
   "name": "python3"
  },
  "language_info": {
   "codemirror_mode": {
    "name": "ipython",
    "version": 3
   },
   "file_extension": ".py",
   "mimetype": "text/x-python",
   "name": "python",
   "nbconvert_exporter": "python",
   "pygments_lexer": "ipython3",
   "version": "3.10.12"
  }
 },
 "nbformat": 4,
 "nbformat_minor": 5
}
