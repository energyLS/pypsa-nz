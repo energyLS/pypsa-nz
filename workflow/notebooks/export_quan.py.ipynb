{
 "cells": [
  {
   "cell_type": "code",
   "execution_count": null,
   "metadata": {},
   "outputs": [],
   "source": [
    "import pandas as pd\n",
    "import numpy as np\n",
    "import matplotlib.pyplot as plt"
   ]
  },
  {
   "cell_type": "markdown",
   "id": "f470ca7f",
   "metadata": {},
   "source": [
    "### Paths"
   ]
  },
  {
   "cell_type": "code",
   "execution_count": null,
   "id": "76d0d123",
   "metadata": {},
   "outputs": [],
   "source": [
    "#nz_goals_fn = '../../data/nz_goals/nz_goals.csv'\n",
    "nz_goals_fn = snakemake.input.nz_goals"
   ]
  },
  {
   "cell_type": "markdown",
   "metadata": {},
   "source": [
    "### Define variables"
   ]
  },
  {
   "cell_type": "code",
   "execution_count": null,
   "id": "6ae0dc90",
   "metadata": {},
   "outputs": [],
   "source": [
    "sweep = \"expansion\""
   ]
  },
  {
   "cell_type": "code",
   "execution_count": null,
   "metadata": {},
   "outputs": [],
   "source": [
    "re_share = 88# in percent\n",
    "gen_total = 10 # in TWh\n",
    "ely_eff = 0.62 # in percent (https://github.com/PyPSA/technology-data/blob/master/outputs/costs_2030.csv)\n",
    "\n",
    "rule = 90 # in percent\n",
    "rule_sweep = np.array([60, 70, 80, 90]) # in percent\n",
    "\n",
    "re_exp = np.array([1]) # TWh/year\n",
    "re_exp_sweep = np.array([0,1,2]) # TWh/year\n",
    "\n",
    "year_target = 2035\n",
    "year_current = 2024\n",
    "\n",
    "demand_dom_incr = np.array([0, 5, 10, 20]) # in TWh"
   ]
  },
  {
   "cell_type": "code",
   "execution_count": null,
   "metadata": {},
   "outputs": [],
   "source": [
    "#demand_dom_incr_grid, re_exp_grid = np.meshgrid(demand_dom_incr, re_exp)"
   ]
  },
  {
   "cell_type": "markdown",
   "metadata": {},
   "source": [
    "### Formula"
   ]
  },
  {
   "cell_type": "code",
   "execution_count": null,
   "metadata": {},
   "outputs": [],
   "source": [
    "def get_export(sweep=\"expansion\", re_exp_sweep=re_exp_sweep, rule_sweep=rule_sweep, rule=rule, re_exp=re_exp, gen_total=gen_total, ely_eff=ely_eff, year_target=year_target, year_current=year_current, demand_dom_incr=demand_dom_incr):\n",
    "\n",
    "    if sweep == \"expansion\":\n",
    "        dim = re_exp_sweep\n",
    "        demand_dom_incr_grid, re_exp = np.meshgrid(demand_dom_incr, re_exp_sweep)\n",
    "    elif sweep == \"rule\":\n",
    "        dim = rule_sweep\n",
    "        demand_dom_incr_grid, rule = np.meshgrid(demand_dom_incr, rule_sweep)\n",
    "\n",
    "    export_el = ((re_share-rule)/100 * gen_total) + (re_exp * (year_target-year_current)) - demand_dom_incr_grid\n",
    "\n",
    "    export = export_el * ely_eff\n",
    "    export_df = pd.DataFrame(export, columns=demand_dom_incr, index=dim)\n",
    "    export_df.index.name = sweep\n",
    "    \n",
    "    return export_df"
   ]
  },
  {
   "cell_type": "code",
   "execution_count": null,
   "id": "4e7c9e28",
   "metadata": {},
   "outputs": [],
   "source": [
    "export_df = get_export(sweep=sweep)"
   ]
  },
  {
   "cell_type": "markdown",
   "id": "9f28dc01",
   "metadata": {},
   "source": [
    "### NZ roadmap"
   ]
  },
  {
   "cell_type": "code",
   "execution_count": null,
   "id": "21d579da",
   "metadata": {},
   "outputs": [],
   "source": [
    "nz_goals = pd.read_csv(nz_goals_fn, index_col=0) \n",
    "nz_goals *= 33.33e-6 # Convert from tons to TWh hydrogen"
   ]
  },
  {
   "cell_type": "markdown",
   "metadata": {},
   "source": [
    "### Plot"
   ]
  },
  {
   "cell_type": "code",
   "execution_count": null,
   "id": "68723111",
   "metadata": {},
   "outputs": [],
   "source": [
    "print(snakemake.output)"
   ]
  },
  {
   "cell_type": "code",
   "execution_count": null,
   "metadata": {},
   "outputs": [],
   "source": [
    "fig = plt.figure(facecolor='white', figsize=(6, 5))\n",
    "\n",
    "ax = fig.add_subplot(1,1,1)\n",
    "alpha=1\n",
    "\n",
    "if sweep == \"expansion\":\n",
    "    for re_exp_val in np.unique(re_exp_sweep):\n",
    "        plt.plot(demand_dom_incr, export_df.loc[re_exp_val], label=f'{re_exp_val} TWh/a', color='green', alpha=alpha)\n",
    "        alpha -= 0.2\n",
    "\n",
    "elif sweep == \"rule\":\n",
    "    for re_exp_val in np.unique(rule_sweep):\n",
    "        plt.plot(demand_dom_incr, export_df.loc[re_exp_val], label=f'{re_exp_val}% rule', color='green', alpha=alpha)\n",
    "        alpha -= 0.2\n",
    "\n",
    "# Plot nz hydrogen goals (arrows)\n",
    "# plt.text(2, nz_goals.loc[2035, \"high\"], 'NZ 2035 goal', color='red', alpha=1, fontsize=8)\n",
    "# plt.arrow(2, nz_goals.loc[2035, \"high\"]+0.27, -0.5,0, head_width=1, head_length=0.5, fc='black', ec='black', alpha=0.5)\n",
    "\n",
    "# Plot nz hydrogen goals (lines)\n",
    "for year in nz_goals.index:\n",
    "    plt.axhline(y=nz_goals.loc[year, \"high\"], color='red', linestyle='--', alpha=0.5)\n",
    "    plt.text(0.4, nz_goals.loc[year, \"high\"]+0.3, f'NZ {year} export goal', color='red', alpha=1, fontsize=8)\n",
    "\n",
    "plt.xlabel('Demand increase in TWh')\n",
    "plt.ylabel('Export in TWh')\n",
    "plt.ylim(-5, 35)\n",
    "plt.xlim(0, 20)\n",
    "plt.grid()\n",
    "plt.legend()\n",
    "#plt.title('Export vs. Demand increase')\n",
    "\n",
    "fig.savefig(snakemake.output.exportquan, bbox_inches=\"tight\")\n",
    "\n",
    "plt.show()"
   ]
  }
 ],
 "metadata": {
  "kernelspec": {
   "display_name": "pypsa-earth",
   "language": "python",
   "name": "python3"
  },
  "language_info": {
   "codemirror_mode": {
    "name": "ipython",
    "version": 3
   },
   "file_extension": ".py",
   "mimetype": "text/x-python",
   "name": "python",
   "nbconvert_exporter": "python",
   "pygments_lexer": "ipython3",
   "version": "3.10.12"
  }
 },
 "nbformat": 4,
 "nbformat_minor": 5
}
