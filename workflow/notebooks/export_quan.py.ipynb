{
 "cells": [
  {
   "cell_type": "code",
   "execution_count": 1,
   "metadata": {},
   "outputs": [],
   "source": [
    "import pandas as pd\n",
    "import numpy as np\n",
    "import matplotlib.pyplot as plt"
   ]
  },
  {
   "cell_type": "markdown",
   "id": "f470ca7f",
   "metadata": {},
   "source": [
    "### Paths"
   ]
  },
  {
   "cell_type": "code",
   "execution_count": null,
   "id": "76d0d123",
   "metadata": {},
   "outputs": [],
   "source": [
    "# nz_goals_fn = '../../data/nz_goals/nz_goals.csv'\n",
    "nz_goals_fn = snakemake.input.nz_goals\n",
    "\n",
    "# edemand_fn = \"../../data/owid/electricity-demand.csv\"\n",
    "edemand_fn = snakemake.input.edemand\n",
    "\n",
    "# edemand_incr_fn = \"../../resources/edemand_incr/edemand_incr.csv\"\n",
    "edemand_incr_fn = snakemake.input.edemand_incr\n",
    "\n",
    "# reshare_fn = '../../data/owid/share-of-electricity-production-from-renewable-sources.csv'\n",
    "reshare_fn = snakemake.input.reshares\n",
    "\n",
    "# regrowth_fn = \"../../resources/regrowth/renewable-growth.csv\"\n",
    "regrowth_fn = snakemake.input.regrowth_data"
   ]
  },
  {
   "cell_type": "markdown",
   "id": "d81f5a32",
   "metadata": {},
   "source": [
    "### Functions to read and prepare data"
   ]
  },
  {
   "cell_type": "code",
   "execution_count": 8,
   "id": "6e77e8e5",
   "metadata": {},
   "outputs": [],
   "source": [
    "def get_demand_incr(edemand_incr_fn):\n",
    "    edemand_incr = pd.read_csv(edemand_incr_fn, index_col=0)\n",
    "\n",
    "    return edemand_incr"
   ]
  },
  {
   "cell_type": "code",
   "execution_count": null,
   "id": "79de61e9",
   "metadata": {},
   "outputs": [],
   "source": [
    "def get_latest_demand(demand_path):\n",
    "\n",
    "    edemand = pd.read_csv(edemand_fn)\n",
    "\n",
    "    edemand = edemand[edemand.Code == country]\n",
    "    # Drop rows where Code is NaN\n",
    "    edemand = edemand.dropna(subset=['Code'])\n",
    "    edemand = edemand.rename(columns={'Electricity demand - TWh': 'edemand'})\n",
    "\n",
    "    # Select latest year and get electricity demand\n",
    "    edemand = edemand[edemand.Year == edemand.Year.max()].edemand.values[0]\n",
    "\n",
    "    print(f\"The latest available electricity demand of country {country} is {edemand} TWh\")\n",
    "\n",
    "    return edemand"
   ]
  },
  {
   "cell_type": "code",
   "execution_count": null,
   "id": "bb0b1dce",
   "metadata": {},
   "outputs": [],
   "source": [
    "def get_latest_reshare(reshare_path):\n",
    "\n",
    "    reshare = pd.read_csv(reshare_fn)\n",
    "\n",
    "    reshare = reshare[reshare.Code == country]\n",
    "    # Drop rows where Code is NaN\n",
    "    reshare = reshare.dropna(subset=['Code'])\n",
    "    reshare = reshare.rename(columns={'Renewables - % electricity': 'reshare'})\n",
    "\n",
    "    # Select latest year and get electricity demand\n",
    "    reshare = reshare[reshare.Year == reshare.Year.max()].reshare.values[0]\n",
    "\n",
    "    print(f\"The latest available electricity demand of country {country} is {reshare} %\")\n",
    "\n",
    "    return reshare"
   ]
  },
  {
   "cell_type": "code",
   "execution_count": null,
   "id": "1dff704e",
   "metadata": {},
   "outputs": [],
   "source": [
    "def get_regrowth(regrowth_fn, ambition=\"upper\"):\n",
    "    \"\"\"Return the combined growth rate of wind and solar\n",
    "\n",
    "    Parameters\n",
    "    ----------\n",
    "    regrowth_fn : _type_\n",
    "        Path of the file containing the regrowth data\n",
    "\n",
    "    Returns\n",
    "    -------\n",
    "    _type_\n",
    "        Combined growth rate of wind and solar\n",
    "    \"\"\"\n",
    "    regrowth_data = pd.read_csv(regrowth_fn, index_col=0)\n",
    "\n",
    "    if ambition == \"upper\":\n",
    "        solar_rate = \"solar1.2\"\n",
    "        wind_rate = \"wind1.4\"\n",
    "    elif ambition == \"lower\":\n",
    "        solar_rate = \"solar0.6\"\n",
    "        wind_rate = \"wind0.8\"\n",
    "\n",
    "    # Combined growth rate of wind and solar\n",
    "    regrowth_comb = regrowth_data.diff().mean().loc[wind_rate] + regrowth_data.diff().mean().loc[solar_rate]\n",
    "    regrowth_comb = regrowth_comb.round(2)\n",
    "\n",
    "    print(f\"The combined growth rate of wind and solar is {regrowth_comb} TWh/a\")\n",
    "\n",
    "    return regrowth_comb"
   ]
  },
  {
   "cell_type": "markdown",
   "metadata": {},
   "source": [
    "### Define variables"
   ]
  },
  {
   "cell_type": "code",
   "execution_count": null,
   "id": "6ae0dc90",
   "metadata": {},
   "outputs": [],
   "source": [
    "# sweep = \"expansion\" #[\"rule\", \"expansion\", \"year\"]\n",
    "sweep = snakemake.wildcards.sweep"
   ]
  },
  {
   "cell_type": "code",
   "execution_count": null,
   "metadata": {},
   "outputs": [],
   "source": [
    "# General\n",
    "country = \"NZL\"\n",
    "year_current = 2024\n",
    "ely_eff = 0.62 # in percent (https://github.com/PyPSA/technology-data/blob/master/outputs/costs_2030.csv)\n",
    "\n",
    "# System parameters\n",
    "re_share = get_latest_reshare(reshare_fn) #87.33 # in percent\n",
    "gen_total = get_latest_demand(edemand_fn) #44.52 # in TWh\n",
    "\n",
    "# Threshold\n",
    "rule = 90 # in percent\n",
    "rule_sweep = np.array([60, 70, 80, 90]) # in percent\n",
    "\n",
    "# RE expansion\n",
    "re_exp = get_regrowth(regrowth_fn, ambition=\"upper\") #1.38 TWh/year\n",
    "re_exp_sweep = np.array([get_regrowth(regrowth_fn, ambition=\"lower\"),get_regrowth(regrowth_fn, ambition=\"upper\"),2,3]).round(1) # TWh/year\n",
    "\n",
    "# Year\n",
    "year_target = 2035\n",
    "year_target_sweep = np.array([2030, 2035, 2040, 2045, 2050])\n",
    "\n",
    "# Demand increase\n",
    "demand_dom_incr = np.array([0, 5, 10, 20]) # in TWh"
   ]
  },
  {
   "cell_type": "markdown",
   "metadata": {},
   "source": [
    "### Formula"
   ]
  },
  {
   "cell_type": "code",
   "execution_count": null,
   "metadata": {},
   "outputs": [],
   "source": [
    "def get_export(sweep=\"expansion\", re_exp_sweep=re_exp_sweep, rule_sweep=rule_sweep, rule=rule, re_exp=re_exp, gen_total=gen_total, ely_eff=ely_eff, year_target=year_target, year_current=year_current, demand_dom_incr=demand_dom_incr):\n",
    "\n",
    "    if sweep == \"expansion\":\n",
    "        dim = re_exp_sweep\n",
    "        demand_dom_incr_grid, re_exp = np.meshgrid(demand_dom_incr, re_exp_sweep)\n",
    "    elif sweep == \"rule\":\n",
    "        dim = rule_sweep\n",
    "        demand_dom_incr_grid, rule = np.meshgrid(demand_dom_incr, rule_sweep)\n",
    "    elif sweep == \"year\":\n",
    "        dim = year_target_sweep\n",
    "        demand_dom_incr_grid, year_target = np.meshgrid(demand_dom_incr, year_target_sweep)\n",
    "\n",
    "    else:\n",
    "        raise ValueError(\"sweep must be one of 'expansion', 'rule', 'year'\") \n",
    "\n",
    "    export_el = ((re_share-rule)/100 * gen_total) + (re_exp * (year_target-year_current)) - demand_dom_incr_grid\n",
    "\n",
    "    export = export_el * ely_eff\n",
    "    export_df = pd.DataFrame(export, columns=demand_dom_incr, index=dim)\n",
    "    export_df.index.name = sweep\n",
    "    \n",
    "    return export_df"
   ]
  },
  {
   "cell_type": "code",
   "execution_count": null,
   "id": "4e7c9e28",
   "metadata": {},
   "outputs": [],
   "source": [
    "export_df = get_export(sweep=sweep)"
   ]
  },
  {
   "cell_type": "markdown",
   "id": "9f28dc01",
   "metadata": {},
   "source": [
    "### NZ roadmap"
   ]
  },
  {
   "cell_type": "code",
   "execution_count": null,
   "id": "21d579da",
   "metadata": {},
   "outputs": [],
   "source": [
    "nz_goals = pd.read_csv(nz_goals_fn, index_col=0) \n",
    "nz_goals *= 33.33e-6 # Convert from tons to TWh hydrogen"
   ]
  },
  {
   "cell_type": "markdown",
   "metadata": {},
   "source": [
    "### Plot"
   ]
  },
  {
   "cell_type": "code",
   "execution_count": null,
   "id": "d9cd2116",
   "metadata": {},
   "outputs": [],
   "source": []
  },
  {
   "cell_type": "code",
   "execution_count": 10,
   "id": "e3eac626",
   "metadata": {},
   "outputs": [
    {
     "data": {
      "text/plain": [
       "10.479999999999997"
      ]
     },
     "execution_count": 10,
     "metadata": {},
     "output_type": "execute_result"
    }
   ],
   "source": []
  },
  {
   "cell_type": "code",
   "execution_count": null,
   "metadata": {},
   "outputs": [],
   "source": [
    "fig = plt.figure(facecolor='white', figsize=(6, 5))\n",
    "\n",
    "ax = fig.add_subplot(1,1,1)\n",
    "alpha=1\n",
    "\n",
    "if sweep == \"expansion\":\n",
    "    for re_exp_val in np.unique(re_exp_sweep):\n",
    "        plt.plot(demand_dom_incr, export_df.loc[re_exp_val], label=f'{re_exp_val} TWh/a', color='green', alpha=alpha)\n",
    "        alpha -= 0.2\n",
    "        legend_title = 'RE expansion'\n",
    "\n",
    "elif sweep == \"rule\":\n",
    "    for rule_val in np.unique(rule_sweep):\n",
    "        plt.plot(demand_dom_incr, export_df.loc[rule_val], label=f'{rule_val}% rule', color='green', alpha=alpha)\n",
    "        alpha -= 0.2\n",
    "        legend_title = 'Rule'\n",
    "\n",
    "elif sweep == \"year\":\n",
    "    for year_val in np.unique(year_target_sweep):\n",
    "        plt.plot(demand_dom_incr, export_df.loc[year_val], label=f'{year_val}', color='green', alpha=alpha)\n",
    "        alpha -= 0.2\n",
    "        legend_title = 'Year'\n",
    "\n",
    "# Plot nz hydrogen goals (arrows)\n",
    "# plt.text(2, nz_goals.loc[2035, \"high\"], 'NZ 2035 goal', color='red', alpha=1, fontsize=8)\n",
    "# plt.arrow(2, nz_goals.loc[2035, \"high\"]+0.27, -0.5,0, head_width=1, head_length=0.5, fc='black', ec='black', alpha=0.5)\n",
    "\n",
    "# Plot nz hydrogen goals (lines)\n",
    "for year in nz_goals.index:\n",
    "    plt.axhline(y=nz_goals.loc[year, \"high\"], color='red', linestyle='--', alpha=0.5)\n",
    "    plt.text(0.4, nz_goals.loc[year, \"high\"]+0.3, f'NZ {year} export target', color='red', alpha=1, fontsize=8)\n",
    "\n",
    "# Plot nz demand (vertical line)\n",
    "year = 2035\n",
    "edemand_incr = get_demand_incr(edemand_incr_fn).loc[year, \"increase\"]\n",
    "plt.axvline(x=edemand_incr, color='black', linestyle='-', alpha=0.5)\n",
    "plt.text(edemand_incr+0.2, 0.5, f'NZ {year} demand increase', color='black', alpha=1, fontsize=8, rotation=90)\n",
    "\n",
    "plt.xlabel('Domestic electricity demand increase in TWh')\n",
    "plt.ylabel('Hydrogen export in TWh')\n",
    "plt.ylim(0, 25)\n",
    "plt.xlim(0, 20)\n",
    "plt.grid()\n",
    "plt.legend(loc='upper right')\n",
    "# plt.legend(title=legend_title)\n",
    "\n",
    "fig.savefig(snakemake.output.exportquan, bbox_inches=\"tight\")\n",
    "fig.savefig(snakemake.output.exportquan_png, bbox_inches=\"tight\", dpi=300)\n",
    "\n",
    "plt.show()"
   ]
  }
 ],
 "metadata": {
  "kernelspec": {
   "display_name": "pypsa-earth",
   "language": "python",
   "name": "python3"
  },
  "language_info": {
   "codemirror_mode": {
    "name": "ipython",
    "version": 3
   },
   "file_extension": ".py",
   "mimetype": "text/x-python",
   "name": "python",
   "nbconvert_exporter": "python",
   "pygments_lexer": "ipython3",
   "version": "3.10.12"
  }
 },
 "nbformat": 4,
 "nbformat_minor": 5
}
